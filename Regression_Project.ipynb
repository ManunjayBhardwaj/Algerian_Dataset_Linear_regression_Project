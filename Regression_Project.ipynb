{
 "cells": [
  {
   "metadata": {},
   "cell_type": "markdown",
   "source": "# We will be using Algerian Forest Fire Dataset",
   "id": "8aa3d49ebdefc2ec"
  },
  {
   "metadata": {
    "ExecuteTime": {
     "end_time": "2025-04-18T07:23:26.471095Z",
     "start_time": "2025-04-18T07:23:26.469458Z"
    }
   },
   "cell_type": "code",
   "source": [
    "import numpy as np\n",
    "import matplotlib.pyplot as plt\n",
    "import seaborn as sns\n",
    "import pandas as pd"
   ],
   "id": "5c7e71eb2b1e75b0",
   "outputs": [],
   "execution_count": 1
  },
  {
   "metadata": {
    "ExecuteTime": {
     "end_time": "2025-04-18T07:23:26.478131Z",
     "start_time": "2025-04-18T07:23:26.474974Z"
    }
   },
   "cell_type": "code",
   "source": "data=pd.read_csv(\"Algerian_forest_fires_dataset.csv\")",
   "id": "4bbc205a8ca546ad",
   "outputs": [],
   "execution_count": 2
  },
  {
   "metadata": {
    "ExecuteTime": {
     "end_time": "2025-04-18T07:23:26.557255Z",
     "start_time": "2025-04-18T07:23:26.551211Z"
    }
   },
   "cell_type": "code",
   "source": [
    "data=pd.DataFrame(data)\n",
    "data.head()"
   ],
   "id": "e9b6b0d9d6e96b7f",
   "outputs": [
    {
     "data": {
      "text/plain": [
       "  day month  year Temperature  RH  Ws Rain   FFMC  DMC    DC  ISI  BUI  FWI  \\\n",
       "0   1     6  2012          29  57  18     0  65.7  3.4   7.6  1.3  3.4  0.5   \n",
       "1   2     6  2012          29  61  13   1.3  64.4  4.1   7.6    1  3.9  0.4   \n",
       "2   3     6  2012          26  82  22  13.1  47.1  2.5   7.1  0.3  2.7  0.1   \n",
       "3   4     6  2012          25  89  13   2.5  28.6  1.3   6.9    0  1.7    0   \n",
       "4   5     6  2012          27  77  16     0  64.8    3  14.2  1.2  3.9  0.5   \n",
       "\n",
       "     Classes    \n",
       "0  not fire     \n",
       "1  not fire     \n",
       "2  not fire     \n",
       "3  not fire     \n",
       "4  not fire     "
      ],
      "text/html": [
       "<div>\n",
       "<style scoped>\n",
       "    .dataframe tbody tr th:only-of-type {\n",
       "        vertical-align: middle;\n",
       "    }\n",
       "\n",
       "    .dataframe tbody tr th {\n",
       "        vertical-align: top;\n",
       "    }\n",
       "\n",
       "    .dataframe thead th {\n",
       "        text-align: right;\n",
       "    }\n",
       "</style>\n",
       "<table border=\"1\" class=\"dataframe\">\n",
       "  <thead>\n",
       "    <tr style=\"text-align: right;\">\n",
       "      <th></th>\n",
       "      <th>day</th>\n",
       "      <th>month</th>\n",
       "      <th>year</th>\n",
       "      <th>Temperature</th>\n",
       "      <th>RH</th>\n",
       "      <th>Ws</th>\n",
       "      <th>Rain</th>\n",
       "      <th>FFMC</th>\n",
       "      <th>DMC</th>\n",
       "      <th>DC</th>\n",
       "      <th>ISI</th>\n",
       "      <th>BUI</th>\n",
       "      <th>FWI</th>\n",
       "      <th>Classes</th>\n",
       "    </tr>\n",
       "  </thead>\n",
       "  <tbody>\n",
       "    <tr>\n",
       "      <th>0</th>\n",
       "      <td>1</td>\n",
       "      <td>6</td>\n",
       "      <td>2012</td>\n",
       "      <td>29</td>\n",
       "      <td>57</td>\n",
       "      <td>18</td>\n",
       "      <td>0</td>\n",
       "      <td>65.7</td>\n",
       "      <td>3.4</td>\n",
       "      <td>7.6</td>\n",
       "      <td>1.3</td>\n",
       "      <td>3.4</td>\n",
       "      <td>0.5</td>\n",
       "      <td>not fire</td>\n",
       "    </tr>\n",
       "    <tr>\n",
       "      <th>1</th>\n",
       "      <td>2</td>\n",
       "      <td>6</td>\n",
       "      <td>2012</td>\n",
       "      <td>29</td>\n",
       "      <td>61</td>\n",
       "      <td>13</td>\n",
       "      <td>1.3</td>\n",
       "      <td>64.4</td>\n",
       "      <td>4.1</td>\n",
       "      <td>7.6</td>\n",
       "      <td>1</td>\n",
       "      <td>3.9</td>\n",
       "      <td>0.4</td>\n",
       "      <td>not fire</td>\n",
       "    </tr>\n",
       "    <tr>\n",
       "      <th>2</th>\n",
       "      <td>3</td>\n",
       "      <td>6</td>\n",
       "      <td>2012</td>\n",
       "      <td>26</td>\n",
       "      <td>82</td>\n",
       "      <td>22</td>\n",
       "      <td>13.1</td>\n",
       "      <td>47.1</td>\n",
       "      <td>2.5</td>\n",
       "      <td>7.1</td>\n",
       "      <td>0.3</td>\n",
       "      <td>2.7</td>\n",
       "      <td>0.1</td>\n",
       "      <td>not fire</td>\n",
       "    </tr>\n",
       "    <tr>\n",
       "      <th>3</th>\n",
       "      <td>4</td>\n",
       "      <td>6</td>\n",
       "      <td>2012</td>\n",
       "      <td>25</td>\n",
       "      <td>89</td>\n",
       "      <td>13</td>\n",
       "      <td>2.5</td>\n",
       "      <td>28.6</td>\n",
       "      <td>1.3</td>\n",
       "      <td>6.9</td>\n",
       "      <td>0</td>\n",
       "      <td>1.7</td>\n",
       "      <td>0</td>\n",
       "      <td>not fire</td>\n",
       "    </tr>\n",
       "    <tr>\n",
       "      <th>4</th>\n",
       "      <td>5</td>\n",
       "      <td>6</td>\n",
       "      <td>2012</td>\n",
       "      <td>27</td>\n",
       "      <td>77</td>\n",
       "      <td>16</td>\n",
       "      <td>0</td>\n",
       "      <td>64.8</td>\n",
       "      <td>3</td>\n",
       "      <td>14.2</td>\n",
       "      <td>1.2</td>\n",
       "      <td>3.9</td>\n",
       "      <td>0.5</td>\n",
       "      <td>not fire</td>\n",
       "    </tr>\n",
       "  </tbody>\n",
       "</table>\n",
       "</div>"
      ]
     },
     "execution_count": 3,
     "metadata": {},
     "output_type": "execute_result"
    }
   ],
   "execution_count": 3
  },
  {
   "metadata": {},
   "cell_type": "markdown",
   "source": "# EDA",
   "id": "6fcb317773e60fab"
  },
  {
   "metadata": {
    "ExecuteTime": {
     "end_time": "2025-04-18T07:23:26.583207Z",
     "start_time": "2025-04-18T07:23:26.578928Z"
    }
   },
   "cell_type": "code",
   "source": "data.info()",
   "id": "f407d286d26ddf57",
   "outputs": [
    {
     "name": "stdout",
     "output_type": "stream",
     "text": [
      "<class 'pandas.core.frame.DataFrame'>\n",
      "RangeIndex: 247 entries, 0 to 246\n",
      "Data columns (total 14 columns):\n",
      " #   Column       Non-Null Count  Dtype \n",
      "---  ------       --------------  ----- \n",
      " 0   day          246 non-null    object\n",
      " 1   month        245 non-null    object\n",
      " 2   year         245 non-null    object\n",
      " 3   Temperature  245 non-null    object\n",
      " 4    RH          245 non-null    object\n",
      " 5    Ws          245 non-null    object\n",
      " 6   Rain         245 non-null    object\n",
      " 7   FFMC         245 non-null    object\n",
      " 8   DMC          245 non-null    object\n",
      " 9   DC           245 non-null    object\n",
      " 10  ISI          245 non-null    object\n",
      " 11  BUI          245 non-null    object\n",
      " 12  FWI          245 non-null    object\n",
      " 13  Classes      244 non-null    object\n",
      "dtypes: object(14)\n",
      "memory usage: 27.1+ KB\n"
     ]
    }
   ],
   "execution_count": 4
  },
  {
   "metadata": {
    "ExecuteTime": {
     "end_time": "2025-04-18T07:23:26.609035Z",
     "start_time": "2025-04-18T07:23:26.606080Z"
    }
   },
   "cell_type": "code",
   "source": [
    "## Data Cleaning\n",
    "## Check missing values\n",
    "data.isnull().sum()"
   ],
   "id": "e4ec37011ab11198",
   "outputs": [
    {
     "data": {
      "text/plain": [
       "day            1\n",
       "month          2\n",
       "year           2\n",
       "Temperature    2\n",
       " RH            2\n",
       " Ws            2\n",
       "Rain           2\n",
       "FFMC           2\n",
       "DMC            2\n",
       "DC             2\n",
       "ISI            2\n",
       "BUI            2\n",
       "FWI            2\n",
       "Classes        3\n",
       "dtype: int64"
      ]
     },
     "execution_count": 5,
     "metadata": {},
     "output_type": "execute_result"
    }
   ],
   "execution_count": 5
  },
  {
   "metadata": {
    "ExecuteTime": {
     "end_time": "2025-04-18T07:23:26.660262Z",
     "start_time": "2025-04-18T07:23:26.657109Z"
    }
   },
   "cell_type": "code",
   "source": [
    "data.dropna(inplace=True)\n",
    "# This inplace = True drops all values of NaN and then stores it in the original dataset"
   ],
   "id": "43296b6cd0e4ce73",
   "outputs": [],
   "execution_count": 6
  },
  {
   "metadata": {
    "ExecuteTime": {
     "end_time": "2025-04-18T07:23:26.690467Z",
     "start_time": "2025-04-18T07:23:26.687481Z"
    }
   },
   "cell_type": "code",
   "source": "data.isnull().sum()",
   "id": "a764b2039a05ee09",
   "outputs": [
    {
     "data": {
      "text/plain": [
       "day            0\n",
       "month          0\n",
       "year           0\n",
       "Temperature    0\n",
       " RH            0\n",
       " Ws            0\n",
       "Rain           0\n",
       "FFMC           0\n",
       "DMC            0\n",
       "DC             0\n",
       "ISI            0\n",
       "BUI            0\n",
       "FWI            0\n",
       "Classes        0\n",
       "dtype: int64"
      ]
     },
     "execution_count": 7,
     "metadata": {},
     "output_type": "execute_result"
    }
   ],
   "execution_count": 7
  },
  {
   "metadata": {
    "ExecuteTime": {
     "end_time": "2025-04-18T07:23:26.738022Z",
     "start_time": "2025-04-18T07:23:26.732607Z"
    }
   },
   "cell_type": "code",
   "source": [
    "df=data.copy()\n",
    "df"
   ],
   "id": "28dce4ce9d32b6a1",
   "outputs": [
    {
     "data": {
      "text/plain": [
       "    day month  year Temperature  RH  Ws Rain   FFMC  DMC    DC  ISI   BUI  \\\n",
       "0     1     6  2012          29  57  18     0  65.7  3.4   7.6  1.3   3.4   \n",
       "1     2     6  2012          29  61  13   1.3  64.4  4.1   7.6    1   3.9   \n",
       "2     3     6  2012          26  82  22  13.1  47.1  2.5   7.1  0.3   2.7   \n",
       "3     4     6  2012          25  89  13   2.5  28.6  1.3   6.9    0   1.7   \n",
       "4     5     6  2012          27  77  16     0  64.8    3  14.2  1.2   3.9   \n",
       "..   ..   ...   ...         ...  ..  ..   ...   ...  ...   ...  ...   ...   \n",
       "242  26     9  2012          30  65  14     0  85.4   16  44.5  4.5  16.9   \n",
       "243  27     9  2012          28  87  15   4.4  41.1  6.5     8  0.1   6.2   \n",
       "244  28     9  2012          27  87  29   0.5  45.9  3.5   7.9  0.4   3.4   \n",
       "245  29     9  2012          24  54  18   0.1  79.7  4.3  15.2  1.7   5.1   \n",
       "246  30     9  2012          24  64  15   0.2  67.3  3.8  16.5  1.2   4.8   \n",
       "\n",
       "     FWI     Classes    \n",
       "0    0.5   not fire     \n",
       "1    0.4   not fire     \n",
       "2    0.1   not fire     \n",
       "3      0   not fire     \n",
       "4    0.5   not fire     \n",
       "..   ...           ...  \n",
       "242  6.5       fire     \n",
       "243    0   not fire     \n",
       "244  0.2   not fire     \n",
       "245  0.7   not fire     \n",
       "246  0.5  not fire      \n",
       "\n",
       "[244 rows x 14 columns]"
      ],
      "text/html": [
       "<div>\n",
       "<style scoped>\n",
       "    .dataframe tbody tr th:only-of-type {\n",
       "        vertical-align: middle;\n",
       "    }\n",
       "\n",
       "    .dataframe tbody tr th {\n",
       "        vertical-align: top;\n",
       "    }\n",
       "\n",
       "    .dataframe thead th {\n",
       "        text-align: right;\n",
       "    }\n",
       "</style>\n",
       "<table border=\"1\" class=\"dataframe\">\n",
       "  <thead>\n",
       "    <tr style=\"text-align: right;\">\n",
       "      <th></th>\n",
       "      <th>day</th>\n",
       "      <th>month</th>\n",
       "      <th>year</th>\n",
       "      <th>Temperature</th>\n",
       "      <th>RH</th>\n",
       "      <th>Ws</th>\n",
       "      <th>Rain</th>\n",
       "      <th>FFMC</th>\n",
       "      <th>DMC</th>\n",
       "      <th>DC</th>\n",
       "      <th>ISI</th>\n",
       "      <th>BUI</th>\n",
       "      <th>FWI</th>\n",
       "      <th>Classes</th>\n",
       "    </tr>\n",
       "  </thead>\n",
       "  <tbody>\n",
       "    <tr>\n",
       "      <th>0</th>\n",
       "      <td>1</td>\n",
       "      <td>6</td>\n",
       "      <td>2012</td>\n",
       "      <td>29</td>\n",
       "      <td>57</td>\n",
       "      <td>18</td>\n",
       "      <td>0</td>\n",
       "      <td>65.7</td>\n",
       "      <td>3.4</td>\n",
       "      <td>7.6</td>\n",
       "      <td>1.3</td>\n",
       "      <td>3.4</td>\n",
       "      <td>0.5</td>\n",
       "      <td>not fire</td>\n",
       "    </tr>\n",
       "    <tr>\n",
       "      <th>1</th>\n",
       "      <td>2</td>\n",
       "      <td>6</td>\n",
       "      <td>2012</td>\n",
       "      <td>29</td>\n",
       "      <td>61</td>\n",
       "      <td>13</td>\n",
       "      <td>1.3</td>\n",
       "      <td>64.4</td>\n",
       "      <td>4.1</td>\n",
       "      <td>7.6</td>\n",
       "      <td>1</td>\n",
       "      <td>3.9</td>\n",
       "      <td>0.4</td>\n",
       "      <td>not fire</td>\n",
       "    </tr>\n",
       "    <tr>\n",
       "      <th>2</th>\n",
       "      <td>3</td>\n",
       "      <td>6</td>\n",
       "      <td>2012</td>\n",
       "      <td>26</td>\n",
       "      <td>82</td>\n",
       "      <td>22</td>\n",
       "      <td>13.1</td>\n",
       "      <td>47.1</td>\n",
       "      <td>2.5</td>\n",
       "      <td>7.1</td>\n",
       "      <td>0.3</td>\n",
       "      <td>2.7</td>\n",
       "      <td>0.1</td>\n",
       "      <td>not fire</td>\n",
       "    </tr>\n",
       "    <tr>\n",
       "      <th>3</th>\n",
       "      <td>4</td>\n",
       "      <td>6</td>\n",
       "      <td>2012</td>\n",
       "      <td>25</td>\n",
       "      <td>89</td>\n",
       "      <td>13</td>\n",
       "      <td>2.5</td>\n",
       "      <td>28.6</td>\n",
       "      <td>1.3</td>\n",
       "      <td>6.9</td>\n",
       "      <td>0</td>\n",
       "      <td>1.7</td>\n",
       "      <td>0</td>\n",
       "      <td>not fire</td>\n",
       "    </tr>\n",
       "    <tr>\n",
       "      <th>4</th>\n",
       "      <td>5</td>\n",
       "      <td>6</td>\n",
       "      <td>2012</td>\n",
       "      <td>27</td>\n",
       "      <td>77</td>\n",
       "      <td>16</td>\n",
       "      <td>0</td>\n",
       "      <td>64.8</td>\n",
       "      <td>3</td>\n",
       "      <td>14.2</td>\n",
       "      <td>1.2</td>\n",
       "      <td>3.9</td>\n",
       "      <td>0.5</td>\n",
       "      <td>not fire</td>\n",
       "    </tr>\n",
       "    <tr>\n",
       "      <th>...</th>\n",
       "      <td>...</td>\n",
       "      <td>...</td>\n",
       "      <td>...</td>\n",
       "      <td>...</td>\n",
       "      <td>...</td>\n",
       "      <td>...</td>\n",
       "      <td>...</td>\n",
       "      <td>...</td>\n",
       "      <td>...</td>\n",
       "      <td>...</td>\n",
       "      <td>...</td>\n",
       "      <td>...</td>\n",
       "      <td>...</td>\n",
       "      <td>...</td>\n",
       "    </tr>\n",
       "    <tr>\n",
       "      <th>242</th>\n",
       "      <td>26</td>\n",
       "      <td>9</td>\n",
       "      <td>2012</td>\n",
       "      <td>30</td>\n",
       "      <td>65</td>\n",
       "      <td>14</td>\n",
       "      <td>0</td>\n",
       "      <td>85.4</td>\n",
       "      <td>16</td>\n",
       "      <td>44.5</td>\n",
       "      <td>4.5</td>\n",
       "      <td>16.9</td>\n",
       "      <td>6.5</td>\n",
       "      <td>fire</td>\n",
       "    </tr>\n",
       "    <tr>\n",
       "      <th>243</th>\n",
       "      <td>27</td>\n",
       "      <td>9</td>\n",
       "      <td>2012</td>\n",
       "      <td>28</td>\n",
       "      <td>87</td>\n",
       "      <td>15</td>\n",
       "      <td>4.4</td>\n",
       "      <td>41.1</td>\n",
       "      <td>6.5</td>\n",
       "      <td>8</td>\n",
       "      <td>0.1</td>\n",
       "      <td>6.2</td>\n",
       "      <td>0</td>\n",
       "      <td>not fire</td>\n",
       "    </tr>\n",
       "    <tr>\n",
       "      <th>244</th>\n",
       "      <td>28</td>\n",
       "      <td>9</td>\n",
       "      <td>2012</td>\n",
       "      <td>27</td>\n",
       "      <td>87</td>\n",
       "      <td>29</td>\n",
       "      <td>0.5</td>\n",
       "      <td>45.9</td>\n",
       "      <td>3.5</td>\n",
       "      <td>7.9</td>\n",
       "      <td>0.4</td>\n",
       "      <td>3.4</td>\n",
       "      <td>0.2</td>\n",
       "      <td>not fire</td>\n",
       "    </tr>\n",
       "    <tr>\n",
       "      <th>245</th>\n",
       "      <td>29</td>\n",
       "      <td>9</td>\n",
       "      <td>2012</td>\n",
       "      <td>24</td>\n",
       "      <td>54</td>\n",
       "      <td>18</td>\n",
       "      <td>0.1</td>\n",
       "      <td>79.7</td>\n",
       "      <td>4.3</td>\n",
       "      <td>15.2</td>\n",
       "      <td>1.7</td>\n",
       "      <td>5.1</td>\n",
       "      <td>0.7</td>\n",
       "      <td>not fire</td>\n",
       "    </tr>\n",
       "    <tr>\n",
       "      <th>246</th>\n",
       "      <td>30</td>\n",
       "      <td>9</td>\n",
       "      <td>2012</td>\n",
       "      <td>24</td>\n",
       "      <td>64</td>\n",
       "      <td>15</td>\n",
       "      <td>0.2</td>\n",
       "      <td>67.3</td>\n",
       "      <td>3.8</td>\n",
       "      <td>16.5</td>\n",
       "      <td>1.2</td>\n",
       "      <td>4.8</td>\n",
       "      <td>0.5</td>\n",
       "      <td>not fire</td>\n",
       "    </tr>\n",
       "  </tbody>\n",
       "</table>\n",
       "<p>244 rows × 14 columns</p>\n",
       "</div>"
      ]
     },
     "execution_count": 8,
     "metadata": {},
     "output_type": "execute_result"
    }
   ],
   "execution_count": 8
  },
  {
   "metadata": {
    "ExecuteTime": {
     "end_time": "2025-04-18T07:23:26.816701Z",
     "start_time": "2025-04-18T07:23:26.813648Z"
    }
   },
   "cell_type": "code",
   "source": [
    "## To fix spaces in column names\n",
    "df.columns=df.columns.str.strip()\n",
    "df.columns"
   ],
   "id": "75cd66db502d751f",
   "outputs": [
    {
     "data": {
      "text/plain": [
       "Index(['day', 'month', 'year', 'Temperature', 'RH', 'Ws', 'Rain', 'FFMC',\n",
       "       'DMC', 'DC', 'ISI', 'BUI', 'FWI', 'Classes'],\n",
       "      dtype='object')"
      ]
     },
     "execution_count": 9,
     "metadata": {},
     "output_type": "execute_result"
    }
   ],
   "execution_count": 9
  },
  {
   "metadata": {},
   "cell_type": "markdown",
   "source": "## We will convert the required columns into integer data type",
   "id": "4ca41fa3a1c0d399"
  },
  {
   "metadata": {
    "ExecuteTime": {
     "end_time": "2025-04-18T07:23:26.879617Z",
     "start_time": "2025-04-18T07:23:26.872146Z"
    }
   },
   "cell_type": "code",
   "source": "df",
   "id": "7f715bd390347c7d",
   "outputs": [
    {
     "data": {
      "text/plain": [
       "    day month  year Temperature  RH  Ws  Rain  FFMC  DMC    DC  ISI   BUI  \\\n",
       "0     1     6  2012          29  57  18     0  65.7  3.4   7.6  1.3   3.4   \n",
       "1     2     6  2012          29  61  13   1.3  64.4  4.1   7.6    1   3.9   \n",
       "2     3     6  2012          26  82  22  13.1  47.1  2.5   7.1  0.3   2.7   \n",
       "3     4     6  2012          25  89  13   2.5  28.6  1.3   6.9    0   1.7   \n",
       "4     5     6  2012          27  77  16     0  64.8    3  14.2  1.2   3.9   \n",
       "..   ..   ...   ...         ...  ..  ..   ...   ...  ...   ...  ...   ...   \n",
       "242  26     9  2012          30  65  14     0  85.4   16  44.5  4.5  16.9   \n",
       "243  27     9  2012          28  87  15   4.4  41.1  6.5     8  0.1   6.2   \n",
       "244  28     9  2012          27  87  29   0.5  45.9  3.5   7.9  0.4   3.4   \n",
       "245  29     9  2012          24  54  18   0.1  79.7  4.3  15.2  1.7   5.1   \n",
       "246  30     9  2012          24  64  15   0.2  67.3  3.8  16.5  1.2   4.8   \n",
       "\n",
       "     FWI       Classes  \n",
       "0    0.5   not fire     \n",
       "1    0.4   not fire     \n",
       "2    0.1   not fire     \n",
       "3      0   not fire     \n",
       "4    0.5   not fire     \n",
       "..   ...           ...  \n",
       "242  6.5       fire     \n",
       "243    0   not fire     \n",
       "244  0.2   not fire     \n",
       "245  0.7   not fire     \n",
       "246  0.5  not fire      \n",
       "\n",
       "[244 rows x 14 columns]"
      ],
      "text/html": [
       "<div>\n",
       "<style scoped>\n",
       "    .dataframe tbody tr th:only-of-type {\n",
       "        vertical-align: middle;\n",
       "    }\n",
       "\n",
       "    .dataframe tbody tr th {\n",
       "        vertical-align: top;\n",
       "    }\n",
       "\n",
       "    .dataframe thead th {\n",
       "        text-align: right;\n",
       "    }\n",
       "</style>\n",
       "<table border=\"1\" class=\"dataframe\">\n",
       "  <thead>\n",
       "    <tr style=\"text-align: right;\">\n",
       "      <th></th>\n",
       "      <th>day</th>\n",
       "      <th>month</th>\n",
       "      <th>year</th>\n",
       "      <th>Temperature</th>\n",
       "      <th>RH</th>\n",
       "      <th>Ws</th>\n",
       "      <th>Rain</th>\n",
       "      <th>FFMC</th>\n",
       "      <th>DMC</th>\n",
       "      <th>DC</th>\n",
       "      <th>ISI</th>\n",
       "      <th>BUI</th>\n",
       "      <th>FWI</th>\n",
       "      <th>Classes</th>\n",
       "    </tr>\n",
       "  </thead>\n",
       "  <tbody>\n",
       "    <tr>\n",
       "      <th>0</th>\n",
       "      <td>1</td>\n",
       "      <td>6</td>\n",
       "      <td>2012</td>\n",
       "      <td>29</td>\n",
       "      <td>57</td>\n",
       "      <td>18</td>\n",
       "      <td>0</td>\n",
       "      <td>65.7</td>\n",
       "      <td>3.4</td>\n",
       "      <td>7.6</td>\n",
       "      <td>1.3</td>\n",
       "      <td>3.4</td>\n",
       "      <td>0.5</td>\n",
       "      <td>not fire</td>\n",
       "    </tr>\n",
       "    <tr>\n",
       "      <th>1</th>\n",
       "      <td>2</td>\n",
       "      <td>6</td>\n",
       "      <td>2012</td>\n",
       "      <td>29</td>\n",
       "      <td>61</td>\n",
       "      <td>13</td>\n",
       "      <td>1.3</td>\n",
       "      <td>64.4</td>\n",
       "      <td>4.1</td>\n",
       "      <td>7.6</td>\n",
       "      <td>1</td>\n",
       "      <td>3.9</td>\n",
       "      <td>0.4</td>\n",
       "      <td>not fire</td>\n",
       "    </tr>\n",
       "    <tr>\n",
       "      <th>2</th>\n",
       "      <td>3</td>\n",
       "      <td>6</td>\n",
       "      <td>2012</td>\n",
       "      <td>26</td>\n",
       "      <td>82</td>\n",
       "      <td>22</td>\n",
       "      <td>13.1</td>\n",
       "      <td>47.1</td>\n",
       "      <td>2.5</td>\n",
       "      <td>7.1</td>\n",
       "      <td>0.3</td>\n",
       "      <td>2.7</td>\n",
       "      <td>0.1</td>\n",
       "      <td>not fire</td>\n",
       "    </tr>\n",
       "    <tr>\n",
       "      <th>3</th>\n",
       "      <td>4</td>\n",
       "      <td>6</td>\n",
       "      <td>2012</td>\n",
       "      <td>25</td>\n",
       "      <td>89</td>\n",
       "      <td>13</td>\n",
       "      <td>2.5</td>\n",
       "      <td>28.6</td>\n",
       "      <td>1.3</td>\n",
       "      <td>6.9</td>\n",
       "      <td>0</td>\n",
       "      <td>1.7</td>\n",
       "      <td>0</td>\n",
       "      <td>not fire</td>\n",
       "    </tr>\n",
       "    <tr>\n",
       "      <th>4</th>\n",
       "      <td>5</td>\n",
       "      <td>6</td>\n",
       "      <td>2012</td>\n",
       "      <td>27</td>\n",
       "      <td>77</td>\n",
       "      <td>16</td>\n",
       "      <td>0</td>\n",
       "      <td>64.8</td>\n",
       "      <td>3</td>\n",
       "      <td>14.2</td>\n",
       "      <td>1.2</td>\n",
       "      <td>3.9</td>\n",
       "      <td>0.5</td>\n",
       "      <td>not fire</td>\n",
       "    </tr>\n",
       "    <tr>\n",
       "      <th>...</th>\n",
       "      <td>...</td>\n",
       "      <td>...</td>\n",
       "      <td>...</td>\n",
       "      <td>...</td>\n",
       "      <td>...</td>\n",
       "      <td>...</td>\n",
       "      <td>...</td>\n",
       "      <td>...</td>\n",
       "      <td>...</td>\n",
       "      <td>...</td>\n",
       "      <td>...</td>\n",
       "      <td>...</td>\n",
       "      <td>...</td>\n",
       "      <td>...</td>\n",
       "    </tr>\n",
       "    <tr>\n",
       "      <th>242</th>\n",
       "      <td>26</td>\n",
       "      <td>9</td>\n",
       "      <td>2012</td>\n",
       "      <td>30</td>\n",
       "      <td>65</td>\n",
       "      <td>14</td>\n",
       "      <td>0</td>\n",
       "      <td>85.4</td>\n",
       "      <td>16</td>\n",
       "      <td>44.5</td>\n",
       "      <td>4.5</td>\n",
       "      <td>16.9</td>\n",
       "      <td>6.5</td>\n",
       "      <td>fire</td>\n",
       "    </tr>\n",
       "    <tr>\n",
       "      <th>243</th>\n",
       "      <td>27</td>\n",
       "      <td>9</td>\n",
       "      <td>2012</td>\n",
       "      <td>28</td>\n",
       "      <td>87</td>\n",
       "      <td>15</td>\n",
       "      <td>4.4</td>\n",
       "      <td>41.1</td>\n",
       "      <td>6.5</td>\n",
       "      <td>8</td>\n",
       "      <td>0.1</td>\n",
       "      <td>6.2</td>\n",
       "      <td>0</td>\n",
       "      <td>not fire</td>\n",
       "    </tr>\n",
       "    <tr>\n",
       "      <th>244</th>\n",
       "      <td>28</td>\n",
       "      <td>9</td>\n",
       "      <td>2012</td>\n",
       "      <td>27</td>\n",
       "      <td>87</td>\n",
       "      <td>29</td>\n",
       "      <td>0.5</td>\n",
       "      <td>45.9</td>\n",
       "      <td>3.5</td>\n",
       "      <td>7.9</td>\n",
       "      <td>0.4</td>\n",
       "      <td>3.4</td>\n",
       "      <td>0.2</td>\n",
       "      <td>not fire</td>\n",
       "    </tr>\n",
       "    <tr>\n",
       "      <th>245</th>\n",
       "      <td>29</td>\n",
       "      <td>9</td>\n",
       "      <td>2012</td>\n",
       "      <td>24</td>\n",
       "      <td>54</td>\n",
       "      <td>18</td>\n",
       "      <td>0.1</td>\n",
       "      <td>79.7</td>\n",
       "      <td>4.3</td>\n",
       "      <td>15.2</td>\n",
       "      <td>1.7</td>\n",
       "      <td>5.1</td>\n",
       "      <td>0.7</td>\n",
       "      <td>not fire</td>\n",
       "    </tr>\n",
       "    <tr>\n",
       "      <th>246</th>\n",
       "      <td>30</td>\n",
       "      <td>9</td>\n",
       "      <td>2012</td>\n",
       "      <td>24</td>\n",
       "      <td>64</td>\n",
       "      <td>15</td>\n",
       "      <td>0.2</td>\n",
       "      <td>67.3</td>\n",
       "      <td>3.8</td>\n",
       "      <td>16.5</td>\n",
       "      <td>1.2</td>\n",
       "      <td>4.8</td>\n",
       "      <td>0.5</td>\n",
       "      <td>not fire</td>\n",
       "    </tr>\n",
       "  </tbody>\n",
       "</table>\n",
       "<p>244 rows × 14 columns</p>\n",
       "</div>"
      ]
     },
     "execution_count": 10,
     "metadata": {},
     "output_type": "execute_result"
    }
   ],
   "execution_count": 10
  },
  {
   "metadata": {},
   "cell_type": "markdown",
   "source": "#### As we can see we want to transform day,month,year,temp,RH,Ws to int",
   "id": "eae93f740a4f1c9f"
  },
  {
   "metadata": {
    "ExecuteTime": {
     "end_time": "2025-04-18T07:23:26.910561Z",
     "start_time": "2025-04-18T07:23:26.908041Z"
    }
   },
   "cell_type": "code",
   "source": [
    "print(df['day'].unique())\n",
    "## As you can see this day entry in the day column is causing a anomaly\n"
   ],
   "id": "6f9abf032c6cf008",
   "outputs": [
    {
     "name": "stdout",
     "output_type": "stream",
     "text": [
      "['1' '2' '3' '4' '5' '6' '7' '8' '9' '10' '11' '12' '13' '14' '15' '16'\n",
      " '17' '18' '19' '20' '21' '22' '23' '24' '25' '26' '27' '28' '29' '30'\n",
      " '31' 'day']\n"
     ]
    }
   ],
   "execution_count": 11
  },
  {
   "metadata": {
    "ExecuteTime": {
     "end_time": "2025-04-18T07:23:26.976517Z",
     "start_time": "2025-04-18T07:23:26.974311Z"
    }
   },
   "cell_type": "code",
   "source": "df = df[df['day'] != 'day']",
   "id": "27031b2f555ff05",
   "outputs": [],
   "execution_count": 12
  },
  {
   "metadata": {
    "ExecuteTime": {
     "end_time": "2025-04-18T07:23:27.019528Z",
     "start_time": "2025-04-18T07:23:27.016644Z"
    }
   },
   "cell_type": "code",
   "source": "df[['day']]=df[['day']].astype('int')",
   "id": "2642f762577fc91a",
   "outputs": [
    {
     "name": "stderr",
     "output_type": "stream",
     "text": [
      "/var/folders/cz/jms94_kj7v552q9spmvhms3m0000gn/T/ipykernel_91021/2042491695.py:1: SettingWithCopyWarning: \n",
      "A value is trying to be set on a copy of a slice from a DataFrame.\n",
      "Try using .loc[row_indexer,col_indexer] = value instead\n",
      "\n",
      "See the caveats in the documentation: https://pandas.pydata.org/pandas-docs/stable/user_guide/indexing.html#returning-a-view-versus-a-copy\n",
      "  df[['day']]=df[['day']].astype('int')\n"
     ]
    }
   ],
   "execution_count": 13
  },
  {
   "metadata": {
    "ExecuteTime": {
     "end_time": "2025-04-18T07:23:27.070633Z",
     "start_time": "2025-04-18T07:23:27.067318Z"
    }
   },
   "cell_type": "code",
   "source": "df['Temperature']=df['Temperature'].astype('int')",
   "id": "5d4a522fe3cdf208",
   "outputs": [
    {
     "name": "stderr",
     "output_type": "stream",
     "text": [
      "/var/folders/cz/jms94_kj7v552q9spmvhms3m0000gn/T/ipykernel_91021/1315437910.py:1: SettingWithCopyWarning: \n",
      "A value is trying to be set on a copy of a slice from a DataFrame.\n",
      "Try using .loc[row_indexer,col_indexer] = value instead\n",
      "\n",
      "See the caveats in the documentation: https://pandas.pydata.org/pandas-docs/stable/user_guide/indexing.html#returning-a-view-versus-a-copy\n",
      "  df['Temperature']=df['Temperature'].astype('int')\n"
     ]
    }
   ],
   "execution_count": 14
  },
  {
   "metadata": {
    "ExecuteTime": {
     "end_time": "2025-04-18T07:23:27.097268Z",
     "start_time": "2025-04-18T07:23:27.094617Z"
    }
   },
   "cell_type": "code",
   "source": "df['year']=df['year'].astype('int')",
   "id": "70a10cb446073ce",
   "outputs": [
    {
     "name": "stderr",
     "output_type": "stream",
     "text": [
      "/var/folders/cz/jms94_kj7v552q9spmvhms3m0000gn/T/ipykernel_91021/2944609646.py:1: SettingWithCopyWarning: \n",
      "A value is trying to be set on a copy of a slice from a DataFrame.\n",
      "Try using .loc[row_indexer,col_indexer] = value instead\n",
      "\n",
      "See the caveats in the documentation: https://pandas.pydata.org/pandas-docs/stable/user_guide/indexing.html#returning-a-view-versus-a-copy\n",
      "  df['year']=df['year'].astype('int')\n"
     ]
    }
   ],
   "execution_count": 15
  },
  {
   "metadata": {
    "ExecuteTime": {
     "end_time": "2025-04-18T07:23:27.126851Z",
     "start_time": "2025-04-18T07:23:27.123754Z"
    }
   },
   "cell_type": "code",
   "source": "df['month']=df['month'].astype('int')",
   "id": "e95aa47cb68f7218",
   "outputs": [
    {
     "name": "stderr",
     "output_type": "stream",
     "text": [
      "/var/folders/cz/jms94_kj7v552q9spmvhms3m0000gn/T/ipykernel_91021/2429529060.py:1: SettingWithCopyWarning: \n",
      "A value is trying to be set on a copy of a slice from a DataFrame.\n",
      "Try using .loc[row_indexer,col_indexer] = value instead\n",
      "\n",
      "See the caveats in the documentation: https://pandas.pydata.org/pandas-docs/stable/user_guide/indexing.html#returning-a-view-versus-a-copy\n",
      "  df['month']=df['month'].astype('int')\n"
     ]
    }
   ],
   "execution_count": 16
  },
  {
   "metadata": {
    "ExecuteTime": {
     "end_time": "2025-04-18T07:23:27.154560Z",
     "start_time": "2025-04-18T07:23:27.151445Z"
    }
   },
   "cell_type": "code",
   "source": "df['RH']=df['RH'].astype('int')",
   "id": "e82c2f52da613a0a",
   "outputs": [
    {
     "name": "stderr",
     "output_type": "stream",
     "text": [
      "/var/folders/cz/jms94_kj7v552q9spmvhms3m0000gn/T/ipykernel_91021/2888244889.py:1: SettingWithCopyWarning: \n",
      "A value is trying to be set on a copy of a slice from a DataFrame.\n",
      "Try using .loc[row_indexer,col_indexer] = value instead\n",
      "\n",
      "See the caveats in the documentation: https://pandas.pydata.org/pandas-docs/stable/user_guide/indexing.html#returning-a-view-versus-a-copy\n",
      "  df['RH']=df['RH'].astype('int')\n"
     ]
    }
   ],
   "execution_count": 17
  },
  {
   "metadata": {
    "ExecuteTime": {
     "end_time": "2025-04-18T07:23:27.178112Z",
     "start_time": "2025-04-18T07:23:27.175672Z"
    }
   },
   "cell_type": "code",
   "source": "df['Ws']=df['Ws'].astype('int')",
   "id": "7d32b72c0b5307b2",
   "outputs": [
    {
     "name": "stderr",
     "output_type": "stream",
     "text": [
      "/var/folders/cz/jms94_kj7v552q9spmvhms3m0000gn/T/ipykernel_91021/4253140275.py:1: SettingWithCopyWarning: \n",
      "A value is trying to be set on a copy of a slice from a DataFrame.\n",
      "Try using .loc[row_indexer,col_indexer] = value instead\n",
      "\n",
      "See the caveats in the documentation: https://pandas.pydata.org/pandas-docs/stable/user_guide/indexing.html#returning-a-view-versus-a-copy\n",
      "  df['Ws']=df['Ws'].astype('int')\n"
     ]
    }
   ],
   "execution_count": 18
  },
  {
   "metadata": {
    "ExecuteTime": {
     "end_time": "2025-04-18T07:23:27.204048Z",
     "start_time": "2025-04-18T07:23:27.200087Z"
    }
   },
   "cell_type": "code",
   "source": "df.info()\n",
   "id": "2f2ba627b1535a02",
   "outputs": [
    {
     "name": "stdout",
     "output_type": "stream",
     "text": [
      "<class 'pandas.core.frame.DataFrame'>\n",
      "Index: 243 entries, 0 to 246\n",
      "Data columns (total 14 columns):\n",
      " #   Column       Non-Null Count  Dtype \n",
      "---  ------       --------------  ----- \n",
      " 0   day          243 non-null    int64 \n",
      " 1   month        243 non-null    int64 \n",
      " 2   year         243 non-null    int64 \n",
      " 3   Temperature  243 non-null    int64 \n",
      " 4   RH           243 non-null    int64 \n",
      " 5   Ws           243 non-null    int64 \n",
      " 6   Rain         243 non-null    object\n",
      " 7   FFMC         243 non-null    object\n",
      " 8   DMC          243 non-null    object\n",
      " 9   DC           243 non-null    object\n",
      " 10  ISI          243 non-null    object\n",
      " 11  BUI          243 non-null    object\n",
      " 12  FWI          243 non-null    object\n",
      " 13  Classes      243 non-null    object\n",
      "dtypes: int64(6), object(8)\n",
      "memory usage: 28.5+ KB\n"
     ]
    }
   ],
   "execution_count": 19
  },
  {
   "metadata": {
    "ExecuteTime": {
     "end_time": "2025-04-18T07:23:27.224655Z",
     "start_time": "2025-04-18T07:23:27.221239Z"
    }
   },
   "cell_type": "code",
   "source": [
    "### Now the rest to float\n",
    "df[[\"Rain\",\"FFMC\",\"DMC\",\"DC\",\"ISI\",\"BUI\",\"FWI\"]]=df[[\"Rain\",\"FFMC\",\"DMC\",\"DC\",\"ISI\",\"BUI\",\"FWI\"]].astype('float')"
   ],
   "id": "c4195dd4df5d68a8",
   "outputs": [
    {
     "name": "stderr",
     "output_type": "stream",
     "text": [
      "/var/folders/cz/jms94_kj7v552q9spmvhms3m0000gn/T/ipykernel_91021/2748076217.py:2: SettingWithCopyWarning: \n",
      "A value is trying to be set on a copy of a slice from a DataFrame.\n",
      "Try using .loc[row_indexer,col_indexer] = value instead\n",
      "\n",
      "See the caveats in the documentation: https://pandas.pydata.org/pandas-docs/stable/user_guide/indexing.html#returning-a-view-versus-a-copy\n",
      "  df[[\"Rain\",\"FFMC\",\"DMC\",\"DC\",\"ISI\",\"BUI\",\"FWI\"]]=df[[\"Rain\",\"FFMC\",\"DMC\",\"DC\",\"ISI\",\"BUI\",\"FWI\"]].astype('float')\n"
     ]
    }
   ],
   "execution_count": 20
  },
  {
   "metadata": {
    "ExecuteTime": {
     "end_time": "2025-04-18T07:23:27.249205Z",
     "start_time": "2025-04-18T07:23:27.244710Z"
    }
   },
   "cell_type": "code",
   "source": "df.info()",
   "id": "3d88b51e2dd35f5b",
   "outputs": [
    {
     "name": "stdout",
     "output_type": "stream",
     "text": [
      "<class 'pandas.core.frame.DataFrame'>\n",
      "Index: 243 entries, 0 to 246\n",
      "Data columns (total 14 columns):\n",
      " #   Column       Non-Null Count  Dtype  \n",
      "---  ------       --------------  -----  \n",
      " 0   day          243 non-null    int64  \n",
      " 1   month        243 non-null    int64  \n",
      " 2   year         243 non-null    int64  \n",
      " 3   Temperature  243 non-null    int64  \n",
      " 4   RH           243 non-null    int64  \n",
      " 5   Ws           243 non-null    int64  \n",
      " 6   Rain         243 non-null    float64\n",
      " 7   FFMC         243 non-null    float64\n",
      " 8   DMC          243 non-null    float64\n",
      " 9   DC           243 non-null    float64\n",
      " 10  ISI          243 non-null    float64\n",
      " 11  BUI          243 non-null    float64\n",
      " 12  FWI          243 non-null    float64\n",
      " 13  Classes      243 non-null    object \n",
      "dtypes: float64(7), int64(6), object(1)\n",
      "memory usage: 28.5+ KB\n"
     ]
    }
   ],
   "execution_count": 21
  },
  {
   "metadata": {
    "ExecuteTime": {
     "end_time": "2025-04-18T07:23:27.276446Z",
     "start_time": "2025-04-18T07:23:27.268873Z"
    }
   },
   "cell_type": "code",
   "source": "df",
   "id": "eaace749cce90f9",
   "outputs": [
    {
     "data": {
      "text/plain": [
       "     day  month  year  Temperature  RH  Ws  Rain  FFMC   DMC    DC  ISI   BUI  \\\n",
       "0      1      6  2012           29  57  18   0.0  65.7   3.4   7.6  1.3   3.4   \n",
       "1      2      6  2012           29  61  13   1.3  64.4   4.1   7.6  1.0   3.9   \n",
       "2      3      6  2012           26  82  22  13.1  47.1   2.5   7.1  0.3   2.7   \n",
       "3      4      6  2012           25  89  13   2.5  28.6   1.3   6.9  0.0   1.7   \n",
       "4      5      6  2012           27  77  16   0.0  64.8   3.0  14.2  1.2   3.9   \n",
       "..   ...    ...   ...          ...  ..  ..   ...   ...   ...   ...  ...   ...   \n",
       "242   26      9  2012           30  65  14   0.0  85.4  16.0  44.5  4.5  16.9   \n",
       "243   27      9  2012           28  87  15   4.4  41.1   6.5   8.0  0.1   6.2   \n",
       "244   28      9  2012           27  87  29   0.5  45.9   3.5   7.9  0.4   3.4   \n",
       "245   29      9  2012           24  54  18   0.1  79.7   4.3  15.2  1.7   5.1   \n",
       "246   30      9  2012           24  64  15   0.2  67.3   3.8  16.5  1.2   4.8   \n",
       "\n",
       "     FWI       Classes  \n",
       "0    0.5   not fire     \n",
       "1    0.4   not fire     \n",
       "2    0.1   not fire     \n",
       "3    0.0   not fire     \n",
       "4    0.5   not fire     \n",
       "..   ...           ...  \n",
       "242  6.5       fire     \n",
       "243  0.0   not fire     \n",
       "244  0.2   not fire     \n",
       "245  0.7   not fire     \n",
       "246  0.5  not fire      \n",
       "\n",
       "[243 rows x 14 columns]"
      ],
      "text/html": [
       "<div>\n",
       "<style scoped>\n",
       "    .dataframe tbody tr th:only-of-type {\n",
       "        vertical-align: middle;\n",
       "    }\n",
       "\n",
       "    .dataframe tbody tr th {\n",
       "        vertical-align: top;\n",
       "    }\n",
       "\n",
       "    .dataframe thead th {\n",
       "        text-align: right;\n",
       "    }\n",
       "</style>\n",
       "<table border=\"1\" class=\"dataframe\">\n",
       "  <thead>\n",
       "    <tr style=\"text-align: right;\">\n",
       "      <th></th>\n",
       "      <th>day</th>\n",
       "      <th>month</th>\n",
       "      <th>year</th>\n",
       "      <th>Temperature</th>\n",
       "      <th>RH</th>\n",
       "      <th>Ws</th>\n",
       "      <th>Rain</th>\n",
       "      <th>FFMC</th>\n",
       "      <th>DMC</th>\n",
       "      <th>DC</th>\n",
       "      <th>ISI</th>\n",
       "      <th>BUI</th>\n",
       "      <th>FWI</th>\n",
       "      <th>Classes</th>\n",
       "    </tr>\n",
       "  </thead>\n",
       "  <tbody>\n",
       "    <tr>\n",
       "      <th>0</th>\n",
       "      <td>1</td>\n",
       "      <td>6</td>\n",
       "      <td>2012</td>\n",
       "      <td>29</td>\n",
       "      <td>57</td>\n",
       "      <td>18</td>\n",
       "      <td>0.0</td>\n",
       "      <td>65.7</td>\n",
       "      <td>3.4</td>\n",
       "      <td>7.6</td>\n",
       "      <td>1.3</td>\n",
       "      <td>3.4</td>\n",
       "      <td>0.5</td>\n",
       "      <td>not fire</td>\n",
       "    </tr>\n",
       "    <tr>\n",
       "      <th>1</th>\n",
       "      <td>2</td>\n",
       "      <td>6</td>\n",
       "      <td>2012</td>\n",
       "      <td>29</td>\n",
       "      <td>61</td>\n",
       "      <td>13</td>\n",
       "      <td>1.3</td>\n",
       "      <td>64.4</td>\n",
       "      <td>4.1</td>\n",
       "      <td>7.6</td>\n",
       "      <td>1.0</td>\n",
       "      <td>3.9</td>\n",
       "      <td>0.4</td>\n",
       "      <td>not fire</td>\n",
       "    </tr>\n",
       "    <tr>\n",
       "      <th>2</th>\n",
       "      <td>3</td>\n",
       "      <td>6</td>\n",
       "      <td>2012</td>\n",
       "      <td>26</td>\n",
       "      <td>82</td>\n",
       "      <td>22</td>\n",
       "      <td>13.1</td>\n",
       "      <td>47.1</td>\n",
       "      <td>2.5</td>\n",
       "      <td>7.1</td>\n",
       "      <td>0.3</td>\n",
       "      <td>2.7</td>\n",
       "      <td>0.1</td>\n",
       "      <td>not fire</td>\n",
       "    </tr>\n",
       "    <tr>\n",
       "      <th>3</th>\n",
       "      <td>4</td>\n",
       "      <td>6</td>\n",
       "      <td>2012</td>\n",
       "      <td>25</td>\n",
       "      <td>89</td>\n",
       "      <td>13</td>\n",
       "      <td>2.5</td>\n",
       "      <td>28.6</td>\n",
       "      <td>1.3</td>\n",
       "      <td>6.9</td>\n",
       "      <td>0.0</td>\n",
       "      <td>1.7</td>\n",
       "      <td>0.0</td>\n",
       "      <td>not fire</td>\n",
       "    </tr>\n",
       "    <tr>\n",
       "      <th>4</th>\n",
       "      <td>5</td>\n",
       "      <td>6</td>\n",
       "      <td>2012</td>\n",
       "      <td>27</td>\n",
       "      <td>77</td>\n",
       "      <td>16</td>\n",
       "      <td>0.0</td>\n",
       "      <td>64.8</td>\n",
       "      <td>3.0</td>\n",
       "      <td>14.2</td>\n",
       "      <td>1.2</td>\n",
       "      <td>3.9</td>\n",
       "      <td>0.5</td>\n",
       "      <td>not fire</td>\n",
       "    </tr>\n",
       "    <tr>\n",
       "      <th>...</th>\n",
       "      <td>...</td>\n",
       "      <td>...</td>\n",
       "      <td>...</td>\n",
       "      <td>...</td>\n",
       "      <td>...</td>\n",
       "      <td>...</td>\n",
       "      <td>...</td>\n",
       "      <td>...</td>\n",
       "      <td>...</td>\n",
       "      <td>...</td>\n",
       "      <td>...</td>\n",
       "      <td>...</td>\n",
       "      <td>...</td>\n",
       "      <td>...</td>\n",
       "    </tr>\n",
       "    <tr>\n",
       "      <th>242</th>\n",
       "      <td>26</td>\n",
       "      <td>9</td>\n",
       "      <td>2012</td>\n",
       "      <td>30</td>\n",
       "      <td>65</td>\n",
       "      <td>14</td>\n",
       "      <td>0.0</td>\n",
       "      <td>85.4</td>\n",
       "      <td>16.0</td>\n",
       "      <td>44.5</td>\n",
       "      <td>4.5</td>\n",
       "      <td>16.9</td>\n",
       "      <td>6.5</td>\n",
       "      <td>fire</td>\n",
       "    </tr>\n",
       "    <tr>\n",
       "      <th>243</th>\n",
       "      <td>27</td>\n",
       "      <td>9</td>\n",
       "      <td>2012</td>\n",
       "      <td>28</td>\n",
       "      <td>87</td>\n",
       "      <td>15</td>\n",
       "      <td>4.4</td>\n",
       "      <td>41.1</td>\n",
       "      <td>6.5</td>\n",
       "      <td>8.0</td>\n",
       "      <td>0.1</td>\n",
       "      <td>6.2</td>\n",
       "      <td>0.0</td>\n",
       "      <td>not fire</td>\n",
       "    </tr>\n",
       "    <tr>\n",
       "      <th>244</th>\n",
       "      <td>28</td>\n",
       "      <td>9</td>\n",
       "      <td>2012</td>\n",
       "      <td>27</td>\n",
       "      <td>87</td>\n",
       "      <td>29</td>\n",
       "      <td>0.5</td>\n",
       "      <td>45.9</td>\n",
       "      <td>3.5</td>\n",
       "      <td>7.9</td>\n",
       "      <td>0.4</td>\n",
       "      <td>3.4</td>\n",
       "      <td>0.2</td>\n",
       "      <td>not fire</td>\n",
       "    </tr>\n",
       "    <tr>\n",
       "      <th>245</th>\n",
       "      <td>29</td>\n",
       "      <td>9</td>\n",
       "      <td>2012</td>\n",
       "      <td>24</td>\n",
       "      <td>54</td>\n",
       "      <td>18</td>\n",
       "      <td>0.1</td>\n",
       "      <td>79.7</td>\n",
       "      <td>4.3</td>\n",
       "      <td>15.2</td>\n",
       "      <td>1.7</td>\n",
       "      <td>5.1</td>\n",
       "      <td>0.7</td>\n",
       "      <td>not fire</td>\n",
       "    </tr>\n",
       "    <tr>\n",
       "      <th>246</th>\n",
       "      <td>30</td>\n",
       "      <td>9</td>\n",
       "      <td>2012</td>\n",
       "      <td>24</td>\n",
       "      <td>64</td>\n",
       "      <td>15</td>\n",
       "      <td>0.2</td>\n",
       "      <td>67.3</td>\n",
       "      <td>3.8</td>\n",
       "      <td>16.5</td>\n",
       "      <td>1.2</td>\n",
       "      <td>4.8</td>\n",
       "      <td>0.5</td>\n",
       "      <td>not fire</td>\n",
       "    </tr>\n",
       "  </tbody>\n",
       "</table>\n",
       "<p>243 rows × 14 columns</p>\n",
       "</div>"
      ]
     },
     "execution_count": 22,
     "metadata": {},
     "output_type": "execute_result"
    }
   ],
   "execution_count": 22
  },
  {
   "metadata": {
    "ExecuteTime": {
     "end_time": "2025-04-18T07:23:27.313353Z",
     "start_time": "2025-04-18T07:23:27.300235Z"
    }
   },
   "cell_type": "code",
   "source": "df.describe()",
   "id": "6f0016a43e705126",
   "outputs": [
    {
     "data": {
      "text/plain": [
       "              day       month    year  Temperature          RH          Ws  \\\n",
       "count  243.000000  243.000000   243.0   243.000000  243.000000  243.000000   \n",
       "mean    15.761317    7.502058  2012.0    32.152263   62.041152   15.493827   \n",
       "std      8.842552    1.114793     0.0     3.628039   14.828160    2.811385   \n",
       "min      1.000000    6.000000  2012.0    22.000000   21.000000    6.000000   \n",
       "25%      8.000000    7.000000  2012.0    30.000000   52.500000   14.000000   \n",
       "50%     16.000000    8.000000  2012.0    32.000000   63.000000   15.000000   \n",
       "75%     23.000000    8.000000  2012.0    35.000000   73.500000   17.000000   \n",
       "max     31.000000    9.000000  2012.0    42.000000   90.000000   29.000000   \n",
       "\n",
       "             Rain        FFMC         DMC          DC         ISI         BUI  \\\n",
       "count  243.000000  243.000000  243.000000  243.000000  243.000000  243.000000   \n",
       "mean     0.762963   77.842387   14.680658   49.430864    4.742387   16.690535   \n",
       "std      2.003207   14.349641   12.393040   47.665606    4.154234   14.228421   \n",
       "min      0.000000   28.600000    0.700000    6.900000    0.000000    1.100000   \n",
       "25%      0.000000   71.850000    5.800000   12.350000    1.400000    6.000000   \n",
       "50%      0.000000   83.300000   11.300000   33.100000    3.500000   12.400000   \n",
       "75%      0.500000   88.300000   20.800000   69.100000    7.250000   22.650000   \n",
       "max     16.800000   96.000000   65.900000  220.400000   19.000000   68.000000   \n",
       "\n",
       "              FWI  \n",
       "count  243.000000  \n",
       "mean     7.035391  \n",
       "std      7.440568  \n",
       "min      0.000000  \n",
       "25%      0.700000  \n",
       "50%      4.200000  \n",
       "75%     11.450000  \n",
       "max     31.100000  "
      ],
      "text/html": [
       "<div>\n",
       "<style scoped>\n",
       "    .dataframe tbody tr th:only-of-type {\n",
       "        vertical-align: middle;\n",
       "    }\n",
       "\n",
       "    .dataframe tbody tr th {\n",
       "        vertical-align: top;\n",
       "    }\n",
       "\n",
       "    .dataframe thead th {\n",
       "        text-align: right;\n",
       "    }\n",
       "</style>\n",
       "<table border=\"1\" class=\"dataframe\">\n",
       "  <thead>\n",
       "    <tr style=\"text-align: right;\">\n",
       "      <th></th>\n",
       "      <th>day</th>\n",
       "      <th>month</th>\n",
       "      <th>year</th>\n",
       "      <th>Temperature</th>\n",
       "      <th>RH</th>\n",
       "      <th>Ws</th>\n",
       "      <th>Rain</th>\n",
       "      <th>FFMC</th>\n",
       "      <th>DMC</th>\n",
       "      <th>DC</th>\n",
       "      <th>ISI</th>\n",
       "      <th>BUI</th>\n",
       "      <th>FWI</th>\n",
       "    </tr>\n",
       "  </thead>\n",
       "  <tbody>\n",
       "    <tr>\n",
       "      <th>count</th>\n",
       "      <td>243.000000</td>\n",
       "      <td>243.000000</td>\n",
       "      <td>243.0</td>\n",
       "      <td>243.000000</td>\n",
       "      <td>243.000000</td>\n",
       "      <td>243.000000</td>\n",
       "      <td>243.000000</td>\n",
       "      <td>243.000000</td>\n",
       "      <td>243.000000</td>\n",
       "      <td>243.000000</td>\n",
       "      <td>243.000000</td>\n",
       "      <td>243.000000</td>\n",
       "      <td>243.000000</td>\n",
       "    </tr>\n",
       "    <tr>\n",
       "      <th>mean</th>\n",
       "      <td>15.761317</td>\n",
       "      <td>7.502058</td>\n",
       "      <td>2012.0</td>\n",
       "      <td>32.152263</td>\n",
       "      <td>62.041152</td>\n",
       "      <td>15.493827</td>\n",
       "      <td>0.762963</td>\n",
       "      <td>77.842387</td>\n",
       "      <td>14.680658</td>\n",
       "      <td>49.430864</td>\n",
       "      <td>4.742387</td>\n",
       "      <td>16.690535</td>\n",
       "      <td>7.035391</td>\n",
       "    </tr>\n",
       "    <tr>\n",
       "      <th>std</th>\n",
       "      <td>8.842552</td>\n",
       "      <td>1.114793</td>\n",
       "      <td>0.0</td>\n",
       "      <td>3.628039</td>\n",
       "      <td>14.828160</td>\n",
       "      <td>2.811385</td>\n",
       "      <td>2.003207</td>\n",
       "      <td>14.349641</td>\n",
       "      <td>12.393040</td>\n",
       "      <td>47.665606</td>\n",
       "      <td>4.154234</td>\n",
       "      <td>14.228421</td>\n",
       "      <td>7.440568</td>\n",
       "    </tr>\n",
       "    <tr>\n",
       "      <th>min</th>\n",
       "      <td>1.000000</td>\n",
       "      <td>6.000000</td>\n",
       "      <td>2012.0</td>\n",
       "      <td>22.000000</td>\n",
       "      <td>21.000000</td>\n",
       "      <td>6.000000</td>\n",
       "      <td>0.000000</td>\n",
       "      <td>28.600000</td>\n",
       "      <td>0.700000</td>\n",
       "      <td>6.900000</td>\n",
       "      <td>0.000000</td>\n",
       "      <td>1.100000</td>\n",
       "      <td>0.000000</td>\n",
       "    </tr>\n",
       "    <tr>\n",
       "      <th>25%</th>\n",
       "      <td>8.000000</td>\n",
       "      <td>7.000000</td>\n",
       "      <td>2012.0</td>\n",
       "      <td>30.000000</td>\n",
       "      <td>52.500000</td>\n",
       "      <td>14.000000</td>\n",
       "      <td>0.000000</td>\n",
       "      <td>71.850000</td>\n",
       "      <td>5.800000</td>\n",
       "      <td>12.350000</td>\n",
       "      <td>1.400000</td>\n",
       "      <td>6.000000</td>\n",
       "      <td>0.700000</td>\n",
       "    </tr>\n",
       "    <tr>\n",
       "      <th>50%</th>\n",
       "      <td>16.000000</td>\n",
       "      <td>8.000000</td>\n",
       "      <td>2012.0</td>\n",
       "      <td>32.000000</td>\n",
       "      <td>63.000000</td>\n",
       "      <td>15.000000</td>\n",
       "      <td>0.000000</td>\n",
       "      <td>83.300000</td>\n",
       "      <td>11.300000</td>\n",
       "      <td>33.100000</td>\n",
       "      <td>3.500000</td>\n",
       "      <td>12.400000</td>\n",
       "      <td>4.200000</td>\n",
       "    </tr>\n",
       "    <tr>\n",
       "      <th>75%</th>\n",
       "      <td>23.000000</td>\n",
       "      <td>8.000000</td>\n",
       "      <td>2012.0</td>\n",
       "      <td>35.000000</td>\n",
       "      <td>73.500000</td>\n",
       "      <td>17.000000</td>\n",
       "      <td>0.500000</td>\n",
       "      <td>88.300000</td>\n",
       "      <td>20.800000</td>\n",
       "      <td>69.100000</td>\n",
       "      <td>7.250000</td>\n",
       "      <td>22.650000</td>\n",
       "      <td>11.450000</td>\n",
       "    </tr>\n",
       "    <tr>\n",
       "      <th>max</th>\n",
       "      <td>31.000000</td>\n",
       "      <td>9.000000</td>\n",
       "      <td>2012.0</td>\n",
       "      <td>42.000000</td>\n",
       "      <td>90.000000</td>\n",
       "      <td>29.000000</td>\n",
       "      <td>16.800000</td>\n",
       "      <td>96.000000</td>\n",
       "      <td>65.900000</td>\n",
       "      <td>220.400000</td>\n",
       "      <td>19.000000</td>\n",
       "      <td>68.000000</td>\n",
       "      <td>31.100000</td>\n",
       "    </tr>\n",
       "  </tbody>\n",
       "</table>\n",
       "</div>"
      ]
     },
     "execution_count": 23,
     "metadata": {},
     "output_type": "execute_result"
    }
   ],
   "execution_count": 23
  },
  {
   "metadata": {
    "ExecuteTime": {
     "end_time": "2025-04-18T07:23:27.343906Z",
     "start_time": "2025-04-18T07:23:27.339828Z"
    }
   },
   "cell_type": "code",
   "source": "df.to_csv(\"Algerian_forest_fires_dataset_Updated.csv\",index=False)",
   "id": "141566a6f9b90172",
   "outputs": [],
   "execution_count": 24
  },
  {
   "metadata": {},
   "cell_type": "markdown",
   "source": "# Model Training",
   "id": "c18507dfa46c7b0a"
  },
  {
   "metadata": {
    "ExecuteTime": {
     "end_time": "2025-04-18T07:23:27.403670Z",
     "start_time": "2025-04-18T07:23:27.400081Z"
    }
   },
   "cell_type": "code",
   "source": "df=pd.read_csv(\"Algerian_forest_fires_dataset_Updated.csv\")",
   "id": "d30171ede8e41848",
   "outputs": [],
   "execution_count": 25
  },
  {
   "metadata": {
    "ExecuteTime": {
     "end_time": "2025-04-18T07:23:27.432505Z",
     "start_time": "2025-04-18T07:23:27.427228Z"
    }
   },
   "cell_type": "code",
   "source": "df.head()",
   "id": "8586a86b13d4ec30",
   "outputs": [
    {
     "data": {
      "text/plain": [
       "   day  month  year  Temperature  RH  Ws  Rain  FFMC  DMC    DC  ISI  BUI  \\\n",
       "0    1      6  2012           29  57  18   0.0  65.7  3.4   7.6  1.3  3.4   \n",
       "1    2      6  2012           29  61  13   1.3  64.4  4.1   7.6  1.0  3.9   \n",
       "2    3      6  2012           26  82  22  13.1  47.1  2.5   7.1  0.3  2.7   \n",
       "3    4      6  2012           25  89  13   2.5  28.6  1.3   6.9  0.0  1.7   \n",
       "4    5      6  2012           27  77  16   0.0  64.8  3.0  14.2  1.2  3.9   \n",
       "\n",
       "   FWI      Classes  \n",
       "0  0.5  not fire     \n",
       "1  0.4  not fire     \n",
       "2  0.1  not fire     \n",
       "3  0.0  not fire     \n",
       "4  0.5  not fire     "
      ],
      "text/html": [
       "<div>\n",
       "<style scoped>\n",
       "    .dataframe tbody tr th:only-of-type {\n",
       "        vertical-align: middle;\n",
       "    }\n",
       "\n",
       "    .dataframe tbody tr th {\n",
       "        vertical-align: top;\n",
       "    }\n",
       "\n",
       "    .dataframe thead th {\n",
       "        text-align: right;\n",
       "    }\n",
       "</style>\n",
       "<table border=\"1\" class=\"dataframe\">\n",
       "  <thead>\n",
       "    <tr style=\"text-align: right;\">\n",
       "      <th></th>\n",
       "      <th>day</th>\n",
       "      <th>month</th>\n",
       "      <th>year</th>\n",
       "      <th>Temperature</th>\n",
       "      <th>RH</th>\n",
       "      <th>Ws</th>\n",
       "      <th>Rain</th>\n",
       "      <th>FFMC</th>\n",
       "      <th>DMC</th>\n",
       "      <th>DC</th>\n",
       "      <th>ISI</th>\n",
       "      <th>BUI</th>\n",
       "      <th>FWI</th>\n",
       "      <th>Classes</th>\n",
       "    </tr>\n",
       "  </thead>\n",
       "  <tbody>\n",
       "    <tr>\n",
       "      <th>0</th>\n",
       "      <td>1</td>\n",
       "      <td>6</td>\n",
       "      <td>2012</td>\n",
       "      <td>29</td>\n",
       "      <td>57</td>\n",
       "      <td>18</td>\n",
       "      <td>0.0</td>\n",
       "      <td>65.7</td>\n",
       "      <td>3.4</td>\n",
       "      <td>7.6</td>\n",
       "      <td>1.3</td>\n",
       "      <td>3.4</td>\n",
       "      <td>0.5</td>\n",
       "      <td>not fire</td>\n",
       "    </tr>\n",
       "    <tr>\n",
       "      <th>1</th>\n",
       "      <td>2</td>\n",
       "      <td>6</td>\n",
       "      <td>2012</td>\n",
       "      <td>29</td>\n",
       "      <td>61</td>\n",
       "      <td>13</td>\n",
       "      <td>1.3</td>\n",
       "      <td>64.4</td>\n",
       "      <td>4.1</td>\n",
       "      <td>7.6</td>\n",
       "      <td>1.0</td>\n",
       "      <td>3.9</td>\n",
       "      <td>0.4</td>\n",
       "      <td>not fire</td>\n",
       "    </tr>\n",
       "    <tr>\n",
       "      <th>2</th>\n",
       "      <td>3</td>\n",
       "      <td>6</td>\n",
       "      <td>2012</td>\n",
       "      <td>26</td>\n",
       "      <td>82</td>\n",
       "      <td>22</td>\n",
       "      <td>13.1</td>\n",
       "      <td>47.1</td>\n",
       "      <td>2.5</td>\n",
       "      <td>7.1</td>\n",
       "      <td>0.3</td>\n",
       "      <td>2.7</td>\n",
       "      <td>0.1</td>\n",
       "      <td>not fire</td>\n",
       "    </tr>\n",
       "    <tr>\n",
       "      <th>3</th>\n",
       "      <td>4</td>\n",
       "      <td>6</td>\n",
       "      <td>2012</td>\n",
       "      <td>25</td>\n",
       "      <td>89</td>\n",
       "      <td>13</td>\n",
       "      <td>2.5</td>\n",
       "      <td>28.6</td>\n",
       "      <td>1.3</td>\n",
       "      <td>6.9</td>\n",
       "      <td>0.0</td>\n",
       "      <td>1.7</td>\n",
       "      <td>0.0</td>\n",
       "      <td>not fire</td>\n",
       "    </tr>\n",
       "    <tr>\n",
       "      <th>4</th>\n",
       "      <td>5</td>\n",
       "      <td>6</td>\n",
       "      <td>2012</td>\n",
       "      <td>27</td>\n",
       "      <td>77</td>\n",
       "      <td>16</td>\n",
       "      <td>0.0</td>\n",
       "      <td>64.8</td>\n",
       "      <td>3.0</td>\n",
       "      <td>14.2</td>\n",
       "      <td>1.2</td>\n",
       "      <td>3.9</td>\n",
       "      <td>0.5</td>\n",
       "      <td>not fire</td>\n",
       "    </tr>\n",
       "  </tbody>\n",
       "</table>\n",
       "</div>"
      ]
     },
     "execution_count": 26,
     "metadata": {},
     "output_type": "execute_result"
    }
   ],
   "execution_count": 26
  },
  {
   "metadata": {
    "ExecuteTime": {
     "end_time": "2025-04-18T07:23:27.465673Z",
     "start_time": "2025-04-18T07:23:27.462970Z"
    }
   },
   "cell_type": "code",
   "source": [
    "df.drop('month',axis=1,inplace=True)\n",
    "df.drop('day',axis=1,inplace=True)\n",
    "df.drop('year',axis=1,inplace=True)"
   ],
   "id": "26024d5ff9faa336",
   "outputs": [],
   "execution_count": 27
  },
  {
   "metadata": {
    "ExecuteTime": {
     "end_time": "2025-04-18T07:23:27.534055Z",
     "start_time": "2025-04-18T07:23:27.527872Z"
    }
   },
   "cell_type": "code",
   "source": "df",
   "id": "14ac36a209ecacd6",
   "outputs": [
    {
     "data": {
      "text/plain": [
       "     Temperature  RH  Ws  Rain  FFMC   DMC    DC  ISI   BUI  FWI       Classes\n",
       "0             29  57  18   0.0  65.7   3.4   7.6  1.3   3.4  0.5   not fire   \n",
       "1             29  61  13   1.3  64.4   4.1   7.6  1.0   3.9  0.4   not fire   \n",
       "2             26  82  22  13.1  47.1   2.5   7.1  0.3   2.7  0.1   not fire   \n",
       "3             25  89  13   2.5  28.6   1.3   6.9  0.0   1.7  0.0   not fire   \n",
       "4             27  77  16   0.0  64.8   3.0  14.2  1.2   3.9  0.5   not fire   \n",
       "..           ...  ..  ..   ...   ...   ...   ...  ...   ...  ...           ...\n",
       "238           30  65  14   0.0  85.4  16.0  44.5  4.5  16.9  6.5       fire   \n",
       "239           28  87  15   4.4  41.1   6.5   8.0  0.1   6.2  0.0   not fire   \n",
       "240           27  87  29   0.5  45.9   3.5   7.9  0.4   3.4  0.2   not fire   \n",
       "241           24  54  18   0.1  79.7   4.3  15.2  1.7   5.1  0.7   not fire   \n",
       "242           24  64  15   0.2  67.3   3.8  16.5  1.2   4.8  0.5  not fire    \n",
       "\n",
       "[243 rows x 11 columns]"
      ],
      "text/html": [
       "<div>\n",
       "<style scoped>\n",
       "    .dataframe tbody tr th:only-of-type {\n",
       "        vertical-align: middle;\n",
       "    }\n",
       "\n",
       "    .dataframe tbody tr th {\n",
       "        vertical-align: top;\n",
       "    }\n",
       "\n",
       "    .dataframe thead th {\n",
       "        text-align: right;\n",
       "    }\n",
       "</style>\n",
       "<table border=\"1\" class=\"dataframe\">\n",
       "  <thead>\n",
       "    <tr style=\"text-align: right;\">\n",
       "      <th></th>\n",
       "      <th>Temperature</th>\n",
       "      <th>RH</th>\n",
       "      <th>Ws</th>\n",
       "      <th>Rain</th>\n",
       "      <th>FFMC</th>\n",
       "      <th>DMC</th>\n",
       "      <th>DC</th>\n",
       "      <th>ISI</th>\n",
       "      <th>BUI</th>\n",
       "      <th>FWI</th>\n",
       "      <th>Classes</th>\n",
       "    </tr>\n",
       "  </thead>\n",
       "  <tbody>\n",
       "    <tr>\n",
       "      <th>0</th>\n",
       "      <td>29</td>\n",
       "      <td>57</td>\n",
       "      <td>18</td>\n",
       "      <td>0.0</td>\n",
       "      <td>65.7</td>\n",
       "      <td>3.4</td>\n",
       "      <td>7.6</td>\n",
       "      <td>1.3</td>\n",
       "      <td>3.4</td>\n",
       "      <td>0.5</td>\n",
       "      <td>not fire</td>\n",
       "    </tr>\n",
       "    <tr>\n",
       "      <th>1</th>\n",
       "      <td>29</td>\n",
       "      <td>61</td>\n",
       "      <td>13</td>\n",
       "      <td>1.3</td>\n",
       "      <td>64.4</td>\n",
       "      <td>4.1</td>\n",
       "      <td>7.6</td>\n",
       "      <td>1.0</td>\n",
       "      <td>3.9</td>\n",
       "      <td>0.4</td>\n",
       "      <td>not fire</td>\n",
       "    </tr>\n",
       "    <tr>\n",
       "      <th>2</th>\n",
       "      <td>26</td>\n",
       "      <td>82</td>\n",
       "      <td>22</td>\n",
       "      <td>13.1</td>\n",
       "      <td>47.1</td>\n",
       "      <td>2.5</td>\n",
       "      <td>7.1</td>\n",
       "      <td>0.3</td>\n",
       "      <td>2.7</td>\n",
       "      <td>0.1</td>\n",
       "      <td>not fire</td>\n",
       "    </tr>\n",
       "    <tr>\n",
       "      <th>3</th>\n",
       "      <td>25</td>\n",
       "      <td>89</td>\n",
       "      <td>13</td>\n",
       "      <td>2.5</td>\n",
       "      <td>28.6</td>\n",
       "      <td>1.3</td>\n",
       "      <td>6.9</td>\n",
       "      <td>0.0</td>\n",
       "      <td>1.7</td>\n",
       "      <td>0.0</td>\n",
       "      <td>not fire</td>\n",
       "    </tr>\n",
       "    <tr>\n",
       "      <th>4</th>\n",
       "      <td>27</td>\n",
       "      <td>77</td>\n",
       "      <td>16</td>\n",
       "      <td>0.0</td>\n",
       "      <td>64.8</td>\n",
       "      <td>3.0</td>\n",
       "      <td>14.2</td>\n",
       "      <td>1.2</td>\n",
       "      <td>3.9</td>\n",
       "      <td>0.5</td>\n",
       "      <td>not fire</td>\n",
       "    </tr>\n",
       "    <tr>\n",
       "      <th>...</th>\n",
       "      <td>...</td>\n",
       "      <td>...</td>\n",
       "      <td>...</td>\n",
       "      <td>...</td>\n",
       "      <td>...</td>\n",
       "      <td>...</td>\n",
       "      <td>...</td>\n",
       "      <td>...</td>\n",
       "      <td>...</td>\n",
       "      <td>...</td>\n",
       "      <td>...</td>\n",
       "    </tr>\n",
       "    <tr>\n",
       "      <th>238</th>\n",
       "      <td>30</td>\n",
       "      <td>65</td>\n",
       "      <td>14</td>\n",
       "      <td>0.0</td>\n",
       "      <td>85.4</td>\n",
       "      <td>16.0</td>\n",
       "      <td>44.5</td>\n",
       "      <td>4.5</td>\n",
       "      <td>16.9</td>\n",
       "      <td>6.5</td>\n",
       "      <td>fire</td>\n",
       "    </tr>\n",
       "    <tr>\n",
       "      <th>239</th>\n",
       "      <td>28</td>\n",
       "      <td>87</td>\n",
       "      <td>15</td>\n",
       "      <td>4.4</td>\n",
       "      <td>41.1</td>\n",
       "      <td>6.5</td>\n",
       "      <td>8.0</td>\n",
       "      <td>0.1</td>\n",
       "      <td>6.2</td>\n",
       "      <td>0.0</td>\n",
       "      <td>not fire</td>\n",
       "    </tr>\n",
       "    <tr>\n",
       "      <th>240</th>\n",
       "      <td>27</td>\n",
       "      <td>87</td>\n",
       "      <td>29</td>\n",
       "      <td>0.5</td>\n",
       "      <td>45.9</td>\n",
       "      <td>3.5</td>\n",
       "      <td>7.9</td>\n",
       "      <td>0.4</td>\n",
       "      <td>3.4</td>\n",
       "      <td>0.2</td>\n",
       "      <td>not fire</td>\n",
       "    </tr>\n",
       "    <tr>\n",
       "      <th>241</th>\n",
       "      <td>24</td>\n",
       "      <td>54</td>\n",
       "      <td>18</td>\n",
       "      <td>0.1</td>\n",
       "      <td>79.7</td>\n",
       "      <td>4.3</td>\n",
       "      <td>15.2</td>\n",
       "      <td>1.7</td>\n",
       "      <td>5.1</td>\n",
       "      <td>0.7</td>\n",
       "      <td>not fire</td>\n",
       "    </tr>\n",
       "    <tr>\n",
       "      <th>242</th>\n",
       "      <td>24</td>\n",
       "      <td>64</td>\n",
       "      <td>15</td>\n",
       "      <td>0.2</td>\n",
       "      <td>67.3</td>\n",
       "      <td>3.8</td>\n",
       "      <td>16.5</td>\n",
       "      <td>1.2</td>\n",
       "      <td>4.8</td>\n",
       "      <td>0.5</td>\n",
       "      <td>not fire</td>\n",
       "    </tr>\n",
       "  </tbody>\n",
       "</table>\n",
       "<p>243 rows × 11 columns</p>\n",
       "</div>"
      ]
     },
     "execution_count": 28,
     "metadata": {},
     "output_type": "execute_result"
    }
   ],
   "execution_count": 28
  },
  {
   "metadata": {
    "ExecuteTime": {
     "end_time": "2025-04-18T07:23:27.574885Z",
     "start_time": "2025-04-18T07:23:27.572004Z"
    }
   },
   "cell_type": "code",
   "source": "df['Classes'].value_counts().unique()",
   "id": "76c4b74b734d74cf",
   "outputs": [
    {
     "data": {
      "text/plain": [
       "array([131, 101,   4,   2,   1])"
      ]
     },
     "execution_count": 29,
     "metadata": {},
     "output_type": "execute_result"
    }
   ],
   "execution_count": 29
  },
  {
   "metadata": {
    "ExecuteTime": {
     "end_time": "2025-04-18T07:23:27.641412Z",
     "start_time": "2025-04-18T07:23:27.639470Z"
    }
   },
   "cell_type": "code",
   "source": "df['Classes']=np.where(df['Classes'].str.contains(\"not fire\"),0,1)",
   "id": "1db6faf31d8852f7",
   "outputs": [],
   "execution_count": 30
  },
  {
   "metadata": {
    "ExecuteTime": {
     "end_time": "2025-04-18T07:23:27.681126Z",
     "start_time": "2025-04-18T07:23:27.678100Z"
    }
   },
   "cell_type": "code",
   "source": " df['Classes'].value_counts().unique()",
   "id": "ef0cc0c415c87123",
   "outputs": [
    {
     "data": {
      "text/plain": [
       "array([137, 106])"
      ]
     },
     "execution_count": 31,
     "metadata": {},
     "output_type": "execute_result"
    }
   ],
   "execution_count": 31
  },
  {
   "metadata": {
    "ExecuteTime": {
     "end_time": "2025-04-18T07:23:27.723405Z",
     "start_time": "2025-04-18T07:23:27.720856Z"
    }
   },
   "cell_type": "code",
   "source": [
    "### Independent and Dependant Features\n",
    "X=df.drop('FWI',axis=1)\n",
    "Y=df['FWI']\n"
   ],
   "id": "98e2e41fff47ec38",
   "outputs": [],
   "execution_count": 32
  },
  {
   "metadata": {
    "ExecuteTime": {
     "end_time": "2025-04-18T07:23:27.818379Z",
     "start_time": "2025-04-18T07:23:27.732815Z"
    }
   },
   "cell_type": "code",
   "source": [
    "## Train Test Split\n",
    "from sklearn.model_selection import train_test_split\n",
    "X_train,X_test,Y_train,Y_test=train_test_split(X,Y,test_size=0.25)"
   ],
   "id": "45b79af3198a2b0",
   "outputs": [],
   "execution_count": 33
  },
  {
   "metadata": {
    "ExecuteTime": {
     "end_time": "2025-04-18T07:23:27.833808Z",
     "start_time": "2025-04-18T07:23:27.828571Z"
    }
   },
   "cell_type": "code",
   "source": [
    "## Feature Selection\n",
    "X_train.corr()"
   ],
   "id": "c44588f5e983fb36",
   "outputs": [
    {
     "data": {
      "text/plain": [
       "             Temperature        RH        Ws      Rain      FFMC       DMC  \\\n",
       "Temperature     1.000000 -0.661525 -0.335700 -0.318442  0.671828  0.470031   \n",
       "RH             -0.661525  1.000000  0.233638  0.232729 -0.679614 -0.431601   \n",
       "Ws             -0.335700  0.233638  1.000000  0.200746 -0.206637 -0.040144   \n",
       "Rain           -0.318442  0.232729  0.200746  1.000000 -0.533288 -0.277016   \n",
       "FFMC            0.671828 -0.679614 -0.206637 -0.533288  1.000000  0.597638   \n",
       "DMC             0.470031 -0.431601 -0.040144 -0.277016  0.597638  1.000000   \n",
       "DC              0.387133 -0.271466  0.049042 -0.301154  0.521393  0.880845   \n",
       "ISI             0.588105 -0.683051 -0.028836 -0.343813  0.731261  0.698606   \n",
       "BUI             0.451906 -0.384369 -0.005477 -0.292458  0.593387  0.982382   \n",
       "Classes         0.515171 -0.476020 -0.115471 -0.356263  0.747062  0.592403   \n",
       "\n",
       "                   DC       ISI       BUI   Classes  \n",
       "Temperature  0.387133  0.588105  0.451906  0.515171  \n",
       "RH          -0.271466 -0.683051 -0.384369 -0.476020  \n",
       "Ws           0.049042 -0.028836 -0.005477 -0.115471  \n",
       "Rain        -0.301154 -0.343813 -0.292458 -0.356263  \n",
       "FFMC         0.521393  0.731261  0.593387  0.747062  \n",
       "DMC          0.880845  0.698606  0.982382  0.592403  \n",
       "DC           1.000000  0.546481  0.943234  0.540587  \n",
       "ISI          0.546481  1.000000  0.671025  0.741118  \n",
       "BUI          0.943234  0.671025  1.000000  0.603795  \n",
       "Classes      0.540587  0.741118  0.603795  1.000000  "
      ],
      "text/html": [
       "<div>\n",
       "<style scoped>\n",
       "    .dataframe tbody tr th:only-of-type {\n",
       "        vertical-align: middle;\n",
       "    }\n",
       "\n",
       "    .dataframe tbody tr th {\n",
       "        vertical-align: top;\n",
       "    }\n",
       "\n",
       "    .dataframe thead th {\n",
       "        text-align: right;\n",
       "    }\n",
       "</style>\n",
       "<table border=\"1\" class=\"dataframe\">\n",
       "  <thead>\n",
       "    <tr style=\"text-align: right;\">\n",
       "      <th></th>\n",
       "      <th>Temperature</th>\n",
       "      <th>RH</th>\n",
       "      <th>Ws</th>\n",
       "      <th>Rain</th>\n",
       "      <th>FFMC</th>\n",
       "      <th>DMC</th>\n",
       "      <th>DC</th>\n",
       "      <th>ISI</th>\n",
       "      <th>BUI</th>\n",
       "      <th>Classes</th>\n",
       "    </tr>\n",
       "  </thead>\n",
       "  <tbody>\n",
       "    <tr>\n",
       "      <th>Temperature</th>\n",
       "      <td>1.000000</td>\n",
       "      <td>-0.661525</td>\n",
       "      <td>-0.335700</td>\n",
       "      <td>-0.318442</td>\n",
       "      <td>0.671828</td>\n",
       "      <td>0.470031</td>\n",
       "      <td>0.387133</td>\n",
       "      <td>0.588105</td>\n",
       "      <td>0.451906</td>\n",
       "      <td>0.515171</td>\n",
       "    </tr>\n",
       "    <tr>\n",
       "      <th>RH</th>\n",
       "      <td>-0.661525</td>\n",
       "      <td>1.000000</td>\n",
       "      <td>0.233638</td>\n",
       "      <td>0.232729</td>\n",
       "      <td>-0.679614</td>\n",
       "      <td>-0.431601</td>\n",
       "      <td>-0.271466</td>\n",
       "      <td>-0.683051</td>\n",
       "      <td>-0.384369</td>\n",
       "      <td>-0.476020</td>\n",
       "    </tr>\n",
       "    <tr>\n",
       "      <th>Ws</th>\n",
       "      <td>-0.335700</td>\n",
       "      <td>0.233638</td>\n",
       "      <td>1.000000</td>\n",
       "      <td>0.200746</td>\n",
       "      <td>-0.206637</td>\n",
       "      <td>-0.040144</td>\n",
       "      <td>0.049042</td>\n",
       "      <td>-0.028836</td>\n",
       "      <td>-0.005477</td>\n",
       "      <td>-0.115471</td>\n",
       "    </tr>\n",
       "    <tr>\n",
       "      <th>Rain</th>\n",
       "      <td>-0.318442</td>\n",
       "      <td>0.232729</td>\n",
       "      <td>0.200746</td>\n",
       "      <td>1.000000</td>\n",
       "      <td>-0.533288</td>\n",
       "      <td>-0.277016</td>\n",
       "      <td>-0.301154</td>\n",
       "      <td>-0.343813</td>\n",
       "      <td>-0.292458</td>\n",
       "      <td>-0.356263</td>\n",
       "    </tr>\n",
       "    <tr>\n",
       "      <th>FFMC</th>\n",
       "      <td>0.671828</td>\n",
       "      <td>-0.679614</td>\n",
       "      <td>-0.206637</td>\n",
       "      <td>-0.533288</td>\n",
       "      <td>1.000000</td>\n",
       "      <td>0.597638</td>\n",
       "      <td>0.521393</td>\n",
       "      <td>0.731261</td>\n",
       "      <td>0.593387</td>\n",
       "      <td>0.747062</td>\n",
       "    </tr>\n",
       "    <tr>\n",
       "      <th>DMC</th>\n",
       "      <td>0.470031</td>\n",
       "      <td>-0.431601</td>\n",
       "      <td>-0.040144</td>\n",
       "      <td>-0.277016</td>\n",
       "      <td>0.597638</td>\n",
       "      <td>1.000000</td>\n",
       "      <td>0.880845</td>\n",
       "      <td>0.698606</td>\n",
       "      <td>0.982382</td>\n",
       "      <td>0.592403</td>\n",
       "    </tr>\n",
       "    <tr>\n",
       "      <th>DC</th>\n",
       "      <td>0.387133</td>\n",
       "      <td>-0.271466</td>\n",
       "      <td>0.049042</td>\n",
       "      <td>-0.301154</td>\n",
       "      <td>0.521393</td>\n",
       "      <td>0.880845</td>\n",
       "      <td>1.000000</td>\n",
       "      <td>0.546481</td>\n",
       "      <td>0.943234</td>\n",
       "      <td>0.540587</td>\n",
       "    </tr>\n",
       "    <tr>\n",
       "      <th>ISI</th>\n",
       "      <td>0.588105</td>\n",
       "      <td>-0.683051</td>\n",
       "      <td>-0.028836</td>\n",
       "      <td>-0.343813</td>\n",
       "      <td>0.731261</td>\n",
       "      <td>0.698606</td>\n",
       "      <td>0.546481</td>\n",
       "      <td>1.000000</td>\n",
       "      <td>0.671025</td>\n",
       "      <td>0.741118</td>\n",
       "    </tr>\n",
       "    <tr>\n",
       "      <th>BUI</th>\n",
       "      <td>0.451906</td>\n",
       "      <td>-0.384369</td>\n",
       "      <td>-0.005477</td>\n",
       "      <td>-0.292458</td>\n",
       "      <td>0.593387</td>\n",
       "      <td>0.982382</td>\n",
       "      <td>0.943234</td>\n",
       "      <td>0.671025</td>\n",
       "      <td>1.000000</td>\n",
       "      <td>0.603795</td>\n",
       "    </tr>\n",
       "    <tr>\n",
       "      <th>Classes</th>\n",
       "      <td>0.515171</td>\n",
       "      <td>-0.476020</td>\n",
       "      <td>-0.115471</td>\n",
       "      <td>-0.356263</td>\n",
       "      <td>0.747062</td>\n",
       "      <td>0.592403</td>\n",
       "      <td>0.540587</td>\n",
       "      <td>0.741118</td>\n",
       "      <td>0.603795</td>\n",
       "      <td>1.000000</td>\n",
       "    </tr>\n",
       "  </tbody>\n",
       "</table>\n",
       "</div>"
      ]
     },
     "execution_count": 34,
     "metadata": {},
     "output_type": "execute_result"
    }
   ],
   "execution_count": 34
  },
  {
   "metadata": {
    "ExecuteTime": {
     "end_time": "2025-04-18T07:23:28.023896Z",
     "start_time": "2025-04-18T07:23:27.856988Z"
    }
   },
   "cell_type": "code",
   "source": [
    "## Check for multicollinearity\n",
    "plt.figure(figsize=(10,10))\n",
    "sns.heatmap(X_train.corr(),annot=True)"
   ],
   "id": "866a5045f303297a",
   "outputs": [
    {
     "data": {
      "text/plain": [
       "<Axes: >"
      ]
     },
     "execution_count": 35,
     "metadata": {},
     "output_type": "execute_result"
    },
    {
     "data": {
      "text/plain": [
       "<Figure size 1000x1000 with 2 Axes>"
      ],
      "image/png": "[encoded data removed]"
     },
     "metadata": {},
     "output_type": "display_data"
    }
   ],
   "execution_count": 35
  },
  {
   "metadata": {
    "ExecuteTime": {
     "end_time": "2025-04-18T07:23:28.045081Z",
     "start_time": "2025-04-18T07:23:28.042747Z"
    }
   },
   "cell_type": "code",
   "source": [
    "### This line of code below returns the highly correlated features so that we can easily remove the ones with extreme collinearity and who beahves the same\n",
    "def correlation(dataset,threshold):\n",
    "    col_corr=set()\n",
    "    corr_matrix=dataset.corr()\n",
    "    for i in range (len(corr_matrix.columns)):\n",
    "        for j in range (i):\n",
    "            if abs(corr_matrix.iloc[i,j]) > threshold:\n",
    "                colname=corr_matrix.columns[i]\n",
    "                col_corr.add(colname)\n",
    "    return col_corr\n",
    "## This iterates through each cell and check whether it is above the threshold or not"
   ],
   "id": "26b1f09d6f065989",
   "outputs": [],
   "execution_count": 36
  },
  {
   "metadata": {
    "ExecuteTime": {
     "end_time": "2025-04-18T07:23:28.059041Z",
     "start_time": "2025-04-18T07:23:28.056275Z"
    }
   },
   "cell_type": "code",
   "source": [
    "correlation(X_train,0.85)\n",
    "## We have set the threshold as 85% which i =s generally set by the domain expert"
   ],
   "id": "c7e061214f21438b",
   "outputs": [
    {
     "data": {
      "text/plain": [
       "{'BUI', 'DC'}"
      ]
     },
     "execution_count": 37,
     "metadata": {},
     "output_type": "execute_result"
    }
   ],
   "execution_count": 37
  },
  {
   "metadata": {
    "ExecuteTime": {
     "end_time": "2025-04-18T07:23:28.075168Z",
     "start_time": "2025-04-18T07:23:28.072038Z"
    }
   },
   "cell_type": "code",
   "source": [
    "X_train.drop(['BUI','DC'],axis=1,inplace=True)\n",
    "X_test.drop(['BUI','DC'],axis=1,inplace=True)\n",
    "X_train.shape,X_test.shape"
   ],
   "id": "d1f1a40edb95bd47",
   "outputs": [
    {
     "data": {
      "text/plain": [
       "((182, 8), (61, 8))"
      ]
     },
     "execution_count": 38,
     "metadata": {},
     "output_type": "execute_result"
    }
   ],
   "execution_count": 38
  },
  {
   "metadata": {
    "ExecuteTime": {
     "end_time": "2025-04-18T07:23:28.103923Z",
     "start_time": "2025-04-18T07:23:28.097188Z"
    }
   },
   "cell_type": "code",
   "source": "df",
   "id": "ce4bb777471c48ff",
   "outputs": [
    {
     "data": {
      "text/plain": [
       "     Temperature  RH  Ws  Rain  FFMC   DMC    DC  ISI   BUI  FWI  Classes\n",
       "0             29  57  18   0.0  65.7   3.4   7.6  1.3   3.4  0.5        0\n",
       "1             29  61  13   1.3  64.4   4.1   7.6  1.0   3.9  0.4        0\n",
       "2             26  82  22  13.1  47.1   2.5   7.1  0.3   2.7  0.1        0\n",
       "3             25  89  13   2.5  28.6   1.3   6.9  0.0   1.7  0.0        0\n",
       "4             27  77  16   0.0  64.8   3.0  14.2  1.2   3.9  0.5        0\n",
       "..           ...  ..  ..   ...   ...   ...   ...  ...   ...  ...      ...\n",
       "238           30  65  14   0.0  85.4  16.0  44.5  4.5  16.9  6.5        1\n",
       "239           28  87  15   4.4  41.1   6.5   8.0  0.1   6.2  0.0        0\n",
       "240           27  87  29   0.5  45.9   3.5   7.9  0.4   3.4  0.2        0\n",
       "241           24  54  18   0.1  79.7   4.3  15.2  1.7   5.1  0.7        0\n",
       "242           24  64  15   0.2  67.3   3.8  16.5  1.2   4.8  0.5        0\n",
       "\n",
       "[243 rows x 11 columns]"
      ],
      "text/html": [
       "<div>\n",
       "<style scoped>\n",
       "    .dataframe tbody tr th:only-of-type {\n",
       "        vertical-align: middle;\n",
       "    }\n",
       "\n",
       "    .dataframe tbody tr th {\n",
       "        vertical-align: top;\n",
       "    }\n",
       "\n",
       "    .dataframe thead th {\n",
       "        text-align: right;\n",
       "    }\n",
       "</style>\n",
       "<table border=\"1\" class=\"dataframe\">\n",
       "  <thead>\n",
       "    <tr style=\"text-align: right;\">\n",
       "      <th></th>\n",
       "      <th>Temperature</th>\n",
       "      <th>RH</th>\n",
       "      <th>Ws</th>\n",
       "      <th>Rain</th>\n",
       "      <th>FFMC</th>\n",
       "      <th>DMC</th>\n",
       "      <th>DC</th>\n",
       "      <th>ISI</th>\n",
       "      <th>BUI</th>\n",
       "      <th>FWI</th>\n",
       "      <th>Classes</th>\n",
       "    </tr>\n",
       "  </thead>\n",
       "  <tbody>\n",
       "    <tr>\n",
       "      <th>0</th>\n",
       "      <td>29</td>\n",
       "      <td>57</td>\n",
       "      <td>18</td>\n",
       "      <td>0.0</td>\n",
       "      <td>65.7</td>\n",
       "      <td>3.4</td>\n",
       "      <td>7.6</td>\n",
       "      <td>1.3</td>\n",
       "      <td>3.4</td>\n",
       "      <td>0.5</td>\n",
       "      <td>0</td>\n",
       "    </tr>\n",
       "    <tr>\n",
       "      <th>1</th>\n",
       "      <td>29</td>\n",
       "      <td>61</td>\n",
       "      <td>13</td>\n",
       "      <td>1.3</td>\n",
       "      <td>64.4</td>\n",
       "      <td>4.1</td>\n",
       "      <td>7.6</td>\n",
       "      <td>1.0</td>\n",
       "      <td>3.9</td>\n",
       "      <td>0.4</td>\n",
       "      <td>0</td>\n",
       "    </tr>\n",
       "    <tr>\n",
       "      <th>2</th>\n",
       "      <td>26</td>\n",
       "      <td>82</td>\n",
       "      <td>22</td>\n",
       "      <td>13.1</td>\n",
       "      <td>47.1</td>\n",
       "      <td>2.5</td>\n",
       "      <td>7.1</td>\n",
       "      <td>0.3</td>\n",
       "      <td>2.7</td>\n",
       "      <td>0.1</td>\n",
       "      <td>0</td>\n",
       "    </tr>\n",
       "    <tr>\n",
       "      <th>3</th>\n",
       "      <td>25</td>\n",
       "      <td>89</td>\n",
       "      <td>13</td>\n",
       "      <td>2.5</td>\n",
       "      <td>28.6</td>\n",
       "      <td>1.3</td>\n",
       "      <td>6.9</td>\n",
       "      <td>0.0</td>\n",
       "      <td>1.7</td>\n",
       "      <td>0.0</td>\n",
       "      <td>0</td>\n",
       "    </tr>\n",
       "    <tr>\n",
       "      <th>4</th>\n",
       "      <td>27</td>\n",
       "      <td>77</td>\n",
       "      <td>16</td>\n",
       "      <td>0.0</td>\n",
       "      <td>64.8</td>\n",
       "      <td>3.0</td>\n",
       "      <td>14.2</td>\n",
       "      <td>1.2</td>\n",
       "      <td>3.9</td>\n",
       "      <td>0.5</td>\n",
       "      <td>0</td>\n",
       "    </tr>\n",
       "    <tr>\n",
       "      <th>...</th>\n",
       "      <td>...</td>\n",
       "      <td>...</td>\n",
       "      <td>...</td>\n",
       "      <td>...</td>\n",
       "      <td>...</td>\n",
       "      <td>...</td>\n",
       "      <td>...</td>\n",
       "      <td>...</td>\n",
       "      <td>...</td>\n",
       "      <td>...</td>\n",
       "      <td>...</td>\n",
       "    </tr>\n",
       "    <tr>\n",
       "      <th>238</th>\n",
       "      <td>30</td>\n",
       "      <td>65</td>\n",
       "      <td>14</td>\n",
       "      <td>0.0</td>\n",
       "      <td>85.4</td>\n",
       "      <td>16.0</td>\n",
       "      <td>44.5</td>\n",
       "      <td>4.5</td>\n",
       "      <td>16.9</td>\n",
       "      <td>6.5</td>\n",
       "      <td>1</td>\n",
       "    </tr>\n",
       "    <tr>\n",
       "      <th>239</th>\n",
       "      <td>28</td>\n",
       "      <td>87</td>\n",
       "      <td>15</td>\n",
       "      <td>4.4</td>\n",
       "      <td>41.1</td>\n",
       "      <td>6.5</td>\n",
       "      <td>8.0</td>\n",
       "      <td>0.1</td>\n",
       "      <td>6.2</td>\n",
       "      <td>0.0</td>\n",
       "      <td>0</td>\n",
       "    </tr>\n",
       "    <tr>\n",
       "      <th>240</th>\n",
       "      <td>27</td>\n",
       "      <td>87</td>\n",
       "      <td>29</td>\n",
       "      <td>0.5</td>\n",
       "      <td>45.9</td>\n",
       "      <td>3.5</td>\n",
       "      <td>7.9</td>\n",
       "      <td>0.4</td>\n",
       "      <td>3.4</td>\n",
       "      <td>0.2</td>\n",
       "      <td>0</td>\n",
       "    </tr>\n",
       "    <tr>\n",
       "      <th>241</th>\n",
       "      <td>24</td>\n",
       "      <td>54</td>\n",
       "      <td>18</td>\n",
       "      <td>0.1</td>\n",
       "      <td>79.7</td>\n",
       "      <td>4.3</td>\n",
       "      <td>15.2</td>\n",
       "      <td>1.7</td>\n",
       "      <td>5.1</td>\n",
       "      <td>0.7</td>\n",
       "      <td>0</td>\n",
       "    </tr>\n",
       "    <tr>\n",
       "      <th>242</th>\n",
       "      <td>24</td>\n",
       "      <td>64</td>\n",
       "      <td>15</td>\n",
       "      <td>0.2</td>\n",
       "      <td>67.3</td>\n",
       "      <td>3.8</td>\n",
       "      <td>16.5</td>\n",
       "      <td>1.2</td>\n",
       "      <td>4.8</td>\n",
       "      <td>0.5</td>\n",
       "      <td>0</td>\n",
       "    </tr>\n",
       "  </tbody>\n",
       "</table>\n",
       "<p>243 rows × 11 columns</p>\n",
       "</div>"
      ]
     },
     "execution_count": 39,
     "metadata": {},
     "output_type": "execute_result"
    }
   ],
   "execution_count": 39
  },
  {
   "metadata": {},
   "cell_type": "markdown",
   "source": "# Standardization",
   "id": "de99072fbf2e1041"
  },
  {
   "metadata": {
    "ExecuteTime": {
     "end_time": "2025-04-18T07:23:28.132272Z",
     "start_time": "2025-04-18T07:23:28.128645Z"
    }
   },
   "cell_type": "code",
   "source": [
    "from sklearn.preprocessing import StandardScaler\n",
    "scaler=StandardScaler()\n",
    "X_train_scaled=scaler.fit_transform(X_train)\n",
    "X_test_scaled=scaler.transform(X_test)"
   ],
   "id": "c7399e3030d8aab2",
   "outputs": [],
   "execution_count": 40
  },
  {
   "metadata": {
    "ExecuteTime": {
     "end_time": "2025-04-18T07:23:28.410655Z",
     "start_time": "2025-04-18T07:23:28.194157Z"
    }
   },
   "cell_type": "code",
   "source": [
    "### Box plots to understand the effect of standardscaler\n",
    "plt.subplots(figsize=(10,10))\n",
    "plt.subplot(1,2,1)\n",
    "sns.boxplot(data=X_train)\n",
    "plt.title('Box Plot Before Scaling')\n",
    "plt.subplot(1,2,2)\n",
    "sns.boxplot(data=X_train_scaled)\n",
    "plt.title('Box Plot After Scaling')"
   ],
   "id": "cfff0dbf75e4768e",
   "outputs": [
    {
     "data": {
      "text/plain": [
       "Text(0.5, 1.0, 'Box Plot After Scaling')"
      ]
     },
     "execution_count": 41,
     "metadata": {},
     "output_type": "execute_result"
    },
    {
     "data": {
      "text/plain": [
       "<Figure size 1000x1000 with 3 Axes>"
      ],
      "image/png": "[encoded data removed]"
     },
     "metadata": {},
     "output_type": "display_data"
    }
   ],
   "execution_count": 41
  },
  {
   "metadata": {},
   "cell_type": "markdown",
   "source": "# Linear Regression Model",
   "id": "ad07ed5a4a89cca"
  },
  {
   "metadata": {
    "ExecuteTime": {
     "end_time": "2025-04-18T07:23:28.521501Z",
     "start_time": "2025-04-18T07:23:28.439628Z"
    }
   },
   "cell_type": "code",
   "source": [
    "from sklearn.linear_model import LinearRegression\n",
    "from sklearn.metrics import mean_absolute_error\n",
    "from sklearn.metrics import r2_score\n",
    "regressor=LinearRegression()\n",
    "regressor.fit(X_train_scaled,Y_train)\n",
    "Y_pred=regressor.predict(X_test_scaled)\n",
    "mae=mean_absolute_error(Y_test,Y_pred)\n",
    "score=r2_score(Y_test,Y_pred)\n",
    "print(\"The r2 score is \",score)\n",
    "print(\"The mean absolute error\",mae)\n",
    "plt.scatter(Y_test,Y_pred)\n",
    "plt.title('Predicted vs Actual');"
   ],
   "id": "59b43cc259df2bfa",
   "outputs": [
    {
     "name": "stdout",
     "output_type": "stream",
     "text": [
      "The r2 score is  0.9805439401223384\n",
      "The mean absolute error 0.7248190712955465\n"
     ]
    },
    {
     "data": {
      "text/plain": [
       "<Figure size 640x480 with 1 Axes>"
      ],
      "image/png": "[encoded data removed]"
     },
     "metadata": {},
     "output_type": "display_data"
    }
   ],
   "execution_count": 42
  },
  {
   "metadata": {},
   "cell_type": "markdown",
   "source": "# Applying Lasso Regression",
   "id": "8d6eedadf830fd72"
  },
  {
   "metadata": {
    "ExecuteTime": {
     "end_time": "2025-04-18T07:23:28.586553Z",
     "start_time": "2025-04-18T07:23:28.536816Z"
    }
   },
   "cell_type": "code",
   "source": [
    "## Apply lasso regression\n",
    "from sklearn.linear_model import Lasso\n",
    "from sklearn.metrics import mean_absolute_error\n",
    "from sklearn.metrics import r2_score\n",
    "regressor=Lasso()\n",
    "regressor.fit(X_train_scaled,Y_train)\n",
    "Y_pred=regressor.predict(X_test_scaled)\n",
    "mae=mean_absolute_error(Y_test,Y_pred)\n",
    "score=r2_score(Y_test,Y_pred)\n",
    "print(\"The r2 score is \",score)\n",
    "print(\"The mean absolute error\",mae)\n",
    "plt.scatter(Y_test,Y_pred)\n",
    "plt.title('Predicted vs Actual');"
   ],
   "id": "72f01e1a4f57bfee",
   "outputs": [
    {
     "name": "stdout",
     "output_type": "stream",
     "text": [
      "The r2 score is  0.9527827962828089\n",
      "The mean absolute error 1.1620509442534155\n"
     ]
    },
    {
     "data": {
      "text/plain": [
       "<Figure size 640x480 with 1 Axes>"
      ],
      "image/png": "[encoded data removed]"
     },
     "metadata": {},
     "output_type": "display_data"
    }
   ],
   "execution_count": 43
  },
  {
   "metadata": {},
   "cell_type": "markdown",
   "source": "# Ridge Regression",
   "id": "ef22df96671aae9c"
  },
  {
   "metadata": {
    "ExecuteTime": {
     "end_time": "2025-04-18T07:23:28.648301Z",
     "start_time": "2025-04-18T07:23:28.598716Z"
    }
   },
   "cell_type": "code",
   "source": [
    "from sklearn.linear_model import Ridge\n",
    "from sklearn.metrics import mean_absolute_error\n",
    "from sklearn.metrics import r2_score\n",
    "regressor=Ridge()\n",
    "regressor.fit(X_train_scaled,Y_train)\n",
    "Y_pred=regressor.predict(X_test_scaled)\n",
    "mae=mean_absolute_error(Y_test,Y_pred)\n",
    "score=r2_score(Y_test,Y_pred)\n",
    "print(\"The r2 score is \",score)\n",
    "print(\"The mean absolute error\",mae)\n",
    "plt.scatter(Y_test,Y_pred)\n",
    "plt.title('Predicted vs Actual');"
   ],
   "id": "2bd7d2f0dbb45807",
   "outputs": [
    {
     "name": "stdout",
     "output_type": "stream",
     "text": [
      "The r2 score is  0.9800858752019972\n",
      "The mean absolute error 0.736925433158521\n"
     ]
    },
    {
     "data": {
      "text/plain": [
       "<Figure size 640x480 with 1 Axes>"
      ],
      "image/png": "[encoded data removed]"
     },
     "metadata": {},
     "output_type": "display_data"
    }
   ],
   "execution_count": 44
  },
  {
   "metadata": {},
   "cell_type": "markdown",
   "source": "# Elastic Net",
   "id": "8101a045c38f32a8"
  },
  {
   "metadata": {
    "ExecuteTime": {
     "end_time": "2025-04-18T07:23:28.705674Z",
     "start_time": "2025-04-18T07:23:28.659869Z"
    }
   },
   "cell_type": "code",
   "source": [
    "from sklearn.linear_model import ElasticNet\n",
    "from sklearn.metrics import mean_absolute_error\n",
    "from sklearn.metrics import r2_score\n",
    "regressor=ElasticNet()\n",
    "regressor.fit(X_train_scaled,Y_train)\n",
    "Y_pred=regressor.predict(X_test_scaled)\n",
    "mae=mean_absolute_error(Y_test,Y_pred)\n",
    "score=r2_score(Y_test,Y_pred)\n",
    "print(\"The r2 score is \",score)\n",
    "print(\"The mean absolute error\",mae)\n",
    "plt.scatter(Y_test,Y_pred)\n",
    "plt.title('Predicted vs Actual');"
   ],
   "id": "2f917453abc9931",
   "outputs": [
    {
     "name": "stdout",
     "output_type": "stream",
     "text": [
      "The r2 score is  0.8903792680155976\n",
      "The mean absolute error 1.7745922738393298\n"
     ]
    },
    {
     "data": {
      "text/plain": [
       "<Figure size 640x480 with 1 Axes>"
      ],
      "image/png": "[encoded data removed]"
     },
     "metadata": {},
     "output_type": "display_data"
    }
   ],
   "execution_count": 45
  },
  {
   "metadata": {},
   "cell_type": "markdown",
   "source": "# Cross Validation Lasso",
   "id": "9ca3874b2b574c6b"
  },
  {
   "metadata": {
    "ExecuteTime": {
     "end_time": "2025-04-18T07:23:28.737617Z",
     "start_time": "2025-04-18T07:23:28.718105Z"
    }
   },
   "cell_type": "code",
   "source": [
    "from sklearn.linear_model import LassoCV\n",
    "lasso=LassoCV(cv=5)\n",
    "lasso.fit(X_train_scaled,Y_train)\n",
    "Y_pred=lasso.predict(X_test_scaled)\n",
    "lasso.alphas_\n",
    "# this alpha is a hyperparameter that helps us to optimize our model further\n",
    "lasso.mse_path_\n",
    "# as we have five cross validation and 100 alphas therefore 500 mse paths will get calculated"
   ],
   "id": "2b5bec7164200be4",
   "outputs": [
    {
     "data": {
      "text/plain": [
       "array([[88.99595015, 60.27073304, 64.13452821, 31.31123884, 36.14717289],\n",
       "       [88.99595015, 54.68395748, 61.47955884, 28.08099954, 31.86585609],\n",
       "       [87.78893201, 48.88678465, 54.06718979, 24.61503805, 28.13252226],\n",
       "       [78.67800934, 43.03971968, 47.42265883, 21.5778471 , 24.87641553],\n",
       "       [70.73028215, 37.9284044 , 41.14593404, 18.93211114, 22.03604316],\n",
       "       [63.79582764, 33.45850239, 35.74877373, 16.62712733, 19.55774626],\n",
       "       [57.74414383, 29.54847619, 31.11297978, 14.6185954 , 17.39492904],\n",
       "       [51.5606076 , 26.12673005, 27.1352329 , 12.86849898, 15.50699341],\n",
       "       [45.2506526 , 23.1310806 , 23.7261668 , 11.34322543, 13.85859589],\n",
       "       [39.75094232, 20.50734857, 20.80798545, 10.0137021 , 12.41903395],\n",
       "       [34.95797337, 18.20810788, 18.31419452,  8.85462902, 11.16137586],\n",
       "       [30.77966599, 16.19266972, 16.18624636,  7.84380992, 10.06236377],\n",
       "       [27.13660804, 14.42492614, 14.3737245 ,  6.96246292,  9.10168205],\n",
       "       [23.95968792, 12.87361322, 12.83296584,  6.19370494,  8.26163769],\n",
       "       [21.1881005 , 11.51147207, 11.52578129,  5.5230197 ,  7.52692985],\n",
       "       [18.77088722, 10.31473149, 10.42026457,  4.93777187,  6.88391025],\n",
       "       [16.66172703,  9.26244354,  9.48768547,  4.42696255,  6.32099996],\n",
       "       [14.82095222,  8.33697561,  8.7035675 ,  3.98101672,  5.82801042],\n",
       "       [13.21403228,  7.52230172,  8.04675429,  3.59159841,  5.39606348],\n",
       "       [11.81090554,  6.80464758,  7.49896773,  3.2513354 ,  5.01742189],\n",
       "       [10.58488868,  6.17198906,  7.04442478,  2.95415249,  4.68534182],\n",
       "       [ 9.51428085,  5.61382689,  6.66910015,  2.69441497,  4.39409471],\n",
       "       [ 8.57865334,  5.12099082,  6.36209035,  2.46733036,  4.1382458 ],\n",
       "       [ 7.76072419,  4.68546912,  6.11283002,  2.26872499,  3.91348409],\n",
       "       [ 7.04544397,  4.30026009,  5.91259909,  2.09496347,  3.71591163],\n",
       "       [ 6.41970453,  3.95909374,  5.75389512,  1.94287892,  3.5421276 ],\n",
       "       [ 5.87208743,  3.65693233,  5.63026815,  1.8097123 ,  3.38916465],\n",
       "       [ 5.39264501,  3.38892543,  5.53617846,  1.69298964,  3.25443312],\n",
       "       [ 4.97241934,  3.1509745 ,  5.46687333,  1.59076575,  3.13567237],\n",
       "       [ 4.60447766,  2.93949175,  5.41828012,  1.50113404,  3.03090858],\n",
       "       [ 4.28190502,  2.75133464,  5.38653703,  1.4225027 ,  2.93859278],\n",
       "       [ 3.99896251,  2.58374943,  5.36944673,  1.35348436,  2.856859  ],\n",
       "       [ 3.750649  ,  2.43432185,  5.36406394,  1.29286928,  2.78457549],\n",
       "       [ 3.53260396,  2.30093424,  5.36822263,  1.23960248,  2.72059291],\n",
       "       [ 3.34102471,  2.18172807,  5.3800842 ,  1.19276367,  2.66390513],\n",
       "       [ 3.17241109,  2.07497323,  5.39808968,  1.15154999,  2.61363202],\n",
       "       [ 3.0242611 ,  1.97944204,  5.42092061,  1.11526082,  2.56900338],\n",
       "       [ 2.89384049,  1.89376531,  5.44746519,  1.08325793,  2.5293449 ],\n",
       "       [ 2.77894351,  1.81683325,  5.47678902,  1.05506517,  2.49406603],\n",
       "       [ 2.67764683,  1.7476696 ,  5.50773536,  1.03018495,  2.46284766],\n",
       "       [ 2.588271  ,  1.68541429,  5.54042402,  1.00820975,  2.43482907],\n",
       "       [ 2.51207675,  1.62930907,  5.57391974,  0.98878381,  2.40981911],\n",
       "       [ 2.44646587,  1.57868488,  5.60777182,  0.97159619,  2.38747132],\n",
       "       [ 2.38791333,  1.53502398,  5.64161573,  0.95637502,  2.36747911],\n",
       "       [ 2.33627182,  1.49605045,  5.67515591,  0.94288251,  2.34957308],\n",
       "       [ 2.29048888,  1.46085483,  5.70965677,  0.93091061,  2.33351641],\n",
       "       [ 2.2498641 ,  1.42903983,  5.74775195,  0.92027724,  2.31910076],\n",
       "       [ 2.21347278,  1.40024666,  5.78512649,  0.91087321,  2.30614274],\n",
       "       [ 2.18141382,  1.3740256 ,  5.82124523,  0.90371586,  2.29448081],\n",
       "       [ 2.15288161,  1.35037115,  5.85669003,  0.89751096,  2.28418041],\n",
       "       [ 2.127457  ,  1.32888576,  5.89098125,  0.89244427,  2.27469203],\n",
       "       [ 2.09816282,  1.30935035,  5.92402764,  0.88833033,  2.26611574],\n",
       "       [ 2.07007734,  1.29136577,  5.95577398,  0.88502626,  2.25835921],\n",
       "       [ 2.04556201,  1.27452202,  5.99110965,  0.88240812,  2.25133582],\n",
       "       [ 2.02414618,  1.25050541,  6.02917547,  0.87102099,  2.24496877],\n",
       "       [ 2.00528547,  1.22870699,  6.06873573,  0.85295351,  2.23918998],\n",
       "       [ 1.97584318,  1.19246152,  6.11588263,  0.83729346,  2.22542973],\n",
       "       [ 1.93127568,  1.14591183,  6.16388404,  0.82399085,  2.17817235],\n",
       "       [ 1.89194362,  1.10397159,  6.21180459,  0.81262232,  2.13672628],\n",
       "       [ 1.85706104,  1.06618536,  6.2592285 ,  0.80281712,  2.09973303],\n",
       "       [ 1.82625572,  1.03248108,  6.30583321,  0.79456617,  2.06639723],\n",
       "       [ 1.79936239,  1.00219924,  6.35088724,  0.78755367,  2.03685644],\n",
       "       [ 1.77561559,  0.97471952,  6.39039744,  0.78160818,  2.01015881],\n",
       "       [ 1.75463242,  0.95021465,  6.41828486,  0.77658036,  1.98645226],\n",
       "       [ 1.73607512,  0.92811537,  6.44830162,  0.77234105,  1.96517294],\n",
       "       [ 1.71964844,  0.90816578,  6.4760461 ,  0.76869744,  1.94604785],\n",
       "       [ 1.70509415,  0.89013495,  6.50299675,  0.7657196 ,  1.92883813],\n",
       "       [ 1.6921864 ,  0.87381875,  6.52911365,  0.76323909,  1.91333309],\n",
       "       [ 1.68057128,  0.85881699,  6.55503425,  0.761183  ,  1.89934688],\n",
       "       [ 1.6703994 ,  0.8454285 ,  6.579308  ,  0.75948931,  1.88661154],\n",
       "       [ 1.66135366,  0.83326692,  6.60251975,  0.75810443,  1.87718831],\n",
       "       [ 1.6532978 ,  0.8222106 ,  6.6247298 ,  0.7569822 ,  1.86900734],\n",
       "       [ 1.64611581,  0.81214792,  6.64593049,  0.75608286,  1.86169518],\n",
       "       [ 1.63970569,  0.80297955,  6.66612625,  0.75532171,  1.85531301],\n",
       "       [ 1.63383593,  0.79402251,  6.68535749,  0.7547719 ,  1.84967904],\n",
       "       [ 1.62791686,  0.78584647,  6.70419787,  0.75436965,  1.84469284],\n",
       "       [ 1.62278293,  0.77829733,  6.72155038,  0.75572156,  1.84517598],\n",
       "       [ 1.61835362,  0.77161007,  6.73861397,  0.7579765 ,  1.85098036],\n",
       "       [ 1.61579325,  0.76555058,  6.7544827 ,  0.76142246,  1.85615208],\n",
       "       [ 1.61365687,  0.76005008,  6.7685648 ,  0.76481534,  1.86169083],\n",
       "       [ 1.61184696,  0.75505182,  6.78168538,  0.76810785,  1.8671497 ],\n",
       "       [ 1.61023909,  0.75050481,  6.79405588,  0.7712914 ,  1.87206193],\n",
       "       [ 1.60895205,  0.74636375,  6.80606647,  0.7744505 ,  1.87726411],\n",
       "       [ 1.60787729,  0.7425883 ,  6.81711329,  0.7773833 ,  1.88231885],\n",
       "       [ 1.60697973,  0.73914257,  6.82738377,  0.7802005 ,  1.88676116],\n",
       "       [ 1.6062339 ,  0.73587854,  6.83703519,  0.7828923 ,  1.89019016],\n",
       "       [ 1.60561769,  0.73298464,  6.84610006,  0.78545878,  1.89259197],\n",
       "       [ 1.60505603,  0.73045261,  6.85479887,  0.78790111,  1.89524498],\n",
       "       [ 1.60463968,  0.72799174,  6.86291771,  0.79022212,  1.89747713],\n",
       "       [ 1.60431184,  0.72574204,  6.87038886,  0.79283618,  1.89996071],\n",
       "       [ 1.60405144,  0.72368917,  6.87738328,  0.79519849,  1.90201286],\n",
       "       [ 1.60384812,  0.72180159,  6.88398585,  0.79744405,  1.90429925],\n",
       "       [ 1.6036541 ,  0.71999359,  6.89031103,  0.79957189,  1.90654881],\n",
       "       [ 1.60352902,  0.71838448,  6.89607571,  0.80168355,  1.90833555],\n",
       "       [ 1.60345063,  0.71692001,  6.90144208,  0.80359796,  1.91030914],\n",
       "       [ 1.60340045,  0.71557116,  6.90646508,  0.80539011,  1.91227154],\n",
       "       [ 1.60337333,  0.71432734,  6.91108463,  0.80708045,  1.91414468],\n",
       "       [ 1.60334133,  0.71312823,  6.91568048,  0.8087603 ,  1.91592044],\n",
       "       [ 1.60333305,  0.71204645,  6.91985   ,  0.81028397,  1.91729134],\n",
       "       [ 1.60335375,  0.71107006,  6.9236915 ,  0.81169271,  1.91878012]])"
      ]
     },
     "execution_count": 46,
     "metadata": {},
     "output_type": "execute_result"
    }
   ],
   "execution_count": 46
  },
  {
   "metadata": {
    "ExecuteTime": {
     "end_time": "2025-04-18T07:23:28.808933Z",
     "start_time": "2025-04-18T07:23:28.765037Z"
    }
   },
   "cell_type": "code",
   "source": [
    "plt.scatter(Y_test,Y_pred)\n",
    "mae=mean_absolute_error(Y_test,Y_pred)\n",
    "score=r2_score(Y_test,Y_pred)\n",
    "print(\"The r2 score is \",score)\n",
    "print(\"The mean absolute error\",mae)"
   ],
   "id": "ff06b98c57ba56f0",
   "outputs": [
    {
     "name": "stdout",
     "output_type": "stream",
     "text": [
      "The r2 score is  0.9802348809160768\n",
      "The mean absolute error 0.7329920651058729\n"
     ]
    },
    {
     "data": {
      "text/plain": [
       "<Figure size 640x480 with 1 Axes>"
      ],
      "image/png": "[encoded data removed]"
     },
     "metadata": {},
     "output_type": "display_data"
    }
   ],
   "execution_count": 47
  },
  {
   "metadata": {},
   "cell_type": "markdown",
   "source": "# RidgeCV",
   "id": "cc4f0ad444cd4edc"
  },
  {
   "metadata": {
    "ExecuteTime": {
     "end_time": "2025-04-18T07:23:28.884853Z",
     "start_time": "2025-04-18T07:23:28.831396Z"
    }
   },
   "cell_type": "code",
   "source": [
    "from sklearn.linear_model import RidgeCV\n",
    "ridge=RidgeCV(cv=5)\n",
    "ridge.fit(X_train_scaled,Y_train)\n",
    "Y_pred_ridge=ridge.predict(X_test_scaled)\n",
    "mae=mean_absolute_error(Y_test,Y_pred_ridge)\n",
    "score=r2_score(Y_test,Y_pred_ridge)\n",
    "print(\"The r2 score is \",score)\n",
    "print(\"The mean absolute error\",mae)\n",
    "plt.scatter(Y_test,Y_pred_ridge)"
   ],
   "id": "7304758c1865ea6e",
   "outputs": [
    {
     "name": "stdout",
     "output_type": "stream",
     "text": [
      "The r2 score is  0.9800858752019972\n",
      "The mean absolute error 0.736925433158521\n"
     ]
    },
    {
     "data": {
      "text/plain": [
       "<matplotlib.collections.PathCollection at 0x12a8bbfb0>"
      ]
     },
     "execution_count": 48,
     "metadata": {},
     "output_type": "execute_result"
    },
    {
     "data": {
      "text/plain": [
       "<Figure size 640x480 with 1 Axes>"
      ],
      "image/png": "[encoded data removed]"
     },
     "metadata": {},
     "output_type": "display_data"
    }
   ],
   "execution_count": 48
  },
  {
   "metadata": {
    "ExecuteTime": {
     "end_time": "2025-04-18T07:23:28.894361Z",
     "start_time": "2025-04-18T07:23:28.891782Z"
    }
   },
   "cell_type": "code",
   "source": "ridge.alphas",
   "id": "6c31bbdc5cab6cda",
   "outputs": [
    {
     "data": {
      "text/plain": [
       "(0.1, 1.0, 10.0)"
      ]
     },
     "execution_count": 49,
     "metadata": {},
     "output_type": "execute_result"
    }
   ],
   "execution_count": 49
  },
  {
   "metadata": {},
   "cell_type": "markdown",
   "source": "# ElasticNet",
   "id": "d9cabb177a783842"
  },
  {
   "metadata": {
    "ExecuteTime": {
     "end_time": "2025-04-18T07:23:28.998105Z",
     "start_time": "2025-04-18T07:23:28.938780Z"
    }
   },
   "cell_type": "code",
   "source": [
    "from sklearn.linear_model import ElasticNetCV\n",
    "ElasticNet=ElasticNetCV()\n",
    "ElasticNet.fit(X_train_scaled,Y_train)\n",
    "Y_pred_ElasticNet=ElasticNet.predict(X_test_scaled)\n",
    "mae=mean_absolute_error(Y_test,Y_pred_ridge)\n",
    "score=r2_score(Y_test,Y_pred_ElasticNet)\n",
    "print(\"The r2 score is \",score)\n",
    "print(\"The mean absolute error\",mae)\n",
    "plt.scatter(Y_test,Y_pred_ridge)"
   ],
   "id": "4ada690ad5197714",
   "outputs": [
    {
     "name": "stdout",
     "output_type": "stream",
     "text": [
      "The r2 score is  0.9783783857447809\n",
      "The mean absolute error 0.736925433158521\n"
     ]
    },
    {
     "data": {
      "text/plain": [
       "<matplotlib.collections.PathCollection at 0x12a8fc530>"
      ]
     },
     "execution_count": 50,
     "metadata": {},
     "output_type": "execute_result"
    },
    {
     "data": {
      "text/plain": [
       "<Figure size 640x480 with 1 Axes>"
      ],
      "image/png": "[encoded data removed]"
     },
     "metadata": {},
     "output_type": "display_data"
    }
   ],
   "execution_count": 50
  },
  {
   "metadata": {},
   "cell_type": "markdown",
   "source": "# Pickling model",
   "id": "b44f23b22e8ab8d3"
  },
  {
   "metadata": {
    "ExecuteTime": {
     "end_time": "2025-04-18T07:23:29.024612Z",
     "start_time": "2025-04-18T07:23:29.022755Z"
    }
   },
   "cell_type": "code",
   "source": "# Pickle the ml model ,preprocessing model",
   "id": "fcc8a21b835e1e57",
   "outputs": [],
   "execution_count": 51
  },
  {
   "metadata": {
    "ExecuteTime": {
     "end_time": "2025-04-18T07:23:29.055492Z",
     "start_time": "2025-04-18T07:23:29.052569Z"
    }
   },
   "cell_type": "code",
   "source": "scaler",
   "id": "a17c9f004905c267",
   "outputs": [
    {
     "data": {
      "text/plain": [
       "StandardScaler()"
      ],
      "text/html": [
       "<style>#sk-container-id-1 {\n",
       "  /* Definition of color scheme common for light and dark mode */\n",
       "  --sklearn-color-text: #000;\n",
       "  --sklearn-color-text-muted: #666;\n",
       "  --sklearn-color-line: gray;\n",
       "  /* Definition of color scheme for unfitted estimators */\n",
       "  --sklearn-color-unfitted-level-0: #fff5e6;\n",
       "  --sklearn-color-unfitted-level-1: #f6e4d2;\n",
       "  --sklearn-color-unfitted-level-2: #ffe0b3;\n",
       "  --sklearn-color-unfitted-level-3: chocolate;\n",
       "  /* Definition of color scheme for fitted estimators */\n",
       "  --sklearn-color-fitted-level-0: #f0f8ff;\n",
       "  --sklearn-color-fitted-level-1: #d4ebff;\n",
       "  --sklearn-color-fitted-level-2: #b3dbfd;\n",
       "  --sklearn-color-fitted-level-3: cornflowerblue;\n",
       "\n",
       "  /* Specific color for light theme */\n",
       "  --sklearn-color-text-on-default-background: var(--sg-text-color, var(--theme-code-foreground, var(--jp-content-font-color1, black)));\n",
       "  --sklearn-color-background: var(--sg-background-color, var(--theme-background, var(--jp-layout-color0, white)));\n",
       "  --sklearn-color-border-box: var(--sg-text-color, var(--theme-code-foreground, var(--jp-content-font-color1, black)));\n",
       "  --sklearn-color-icon: #696969;\n",
       "\n",
       "  @media (prefers-color-scheme: dark) {\n",
       "    /* Redefinition of color scheme for dark theme */\n",
       "    --sklearn-color-text-on-default-background: var(--sg-text-color, var(--theme-code-foreground, var(--jp-content-font-color1, white)));\n",
       "    --sklearn-color-background: var(--sg-background-color, var(--theme-background, var(--jp-layout-color0, #111)));\n",
       "    --sklearn-color-border-box: var(--sg-text-color, var(--theme-code-foreground, var(--jp-content-font-color1, white)));\n",
       "    --sklearn-color-icon: #878787;\n",
       "  }\n",
       "}\n",
       "\n",
       "#sk-container-id-1 {\n",
       "  color: var(--sklearn-color-text);\n",
       "}\n",
       "\n",
       "#sk-container-id-1 pre {\n",
       "  padding: 0;\n",
       "}\n",
       "\n",
       "#sk-container-id-1 input.sk-hidden--visually {\n",
       "  border: 0;\n",
       "  clip: rect(1px 1px 1px 1px);\n",
       "  clip: rect(1px, 1px, 1px, 1px);\n",
       "  height: 1px;\n",
       "  margin: -1px;\n",
       "  overflow: hidden;\n",
       "  padding: 0;\n",
       "  position: absolute;\n",
       "  width: 1px;\n",
       "}\n",
       "\n",
       "#sk-container-id-1 div.sk-dashed-wrapped {\n",
       "  border: 1px dashed var(--sklearn-color-line);\n",
       "  margin: 0 0.4em 0.5em 0.4em;\n",
       "  box-sizing: border-box;\n",
       "  padding-bottom: 0.4em;\n",
       "  background-color: var(--sklearn-color-background);\n",
       "}\n",
       "\n",
       "#sk-container-id-1 div.sk-container {\n",
       "  /* jupyter's `normalize.less` sets `[hidden] { display: none; }`\n",
       "     but bootstrap.min.css set `[hidden] { display: none !important; }`\n",
       "     so we also need the `!important` here to be able to override the\n",
       "     default hidden behavior on the sphinx rendered scikit-learn.org.\n",
       "     See: https://github.com/scikit-learn/scikit-learn/issues/21755 */\n",
       "  display: inline-block !important;\n",
       "  position: relative;\n",
       "}\n",
       "\n",
       "#sk-container-id-1 div.sk-text-repr-fallback {\n",
       "  display: none;\n",
       "}\n",
       "\n",
       "div.sk-parallel-item,\n",
       "div.sk-serial,\n",
       "div.sk-item {\n",
       "  /* draw centered vertical line to link estimators */\n",
       "  background-image: linear-gradient(var(--sklearn-color-text-on-default-background), var(--sklearn-color-text-on-default-background));\n",
       "  background-size: 2px 100%;\n",
       "  background-repeat: no-repeat;\n",
       "  background-position: center center;\n",
       "}\n",
       "\n",
       "/* Parallel-specific style estimator block */\n",
       "\n",
       "#sk-container-id-1 div.sk-parallel-item::after {\n",
       "  content: \"\";\n",
       "  width: 100%;\n",
       "  border-bottom: 2px solid var(--sklearn-color-text-on-default-background);\n",
       "  flex-grow: 1;\n",
       "}\n",
       "\n",
       "#sk-container-id-1 div.sk-parallel {\n",
       "  display: flex;\n",
       "  align-items: stretch;\n",
       "  justify-content: center;\n",
       "  background-color: var(--sklearn-color-background);\n",
       "  position: relative;\n",
       "}\n",
       "\n",
       "#sk-container-id-1 div.sk-parallel-item {\n",
       "  display: flex;\n",
       "  flex-direction: column;\n",
       "}\n",
       "\n",
       "#sk-container-id-1 div.sk-parallel-item:first-child::after {\n",
       "  align-self: flex-end;\n",
       "  width: 50%;\n",
       "}\n",
       "\n",
       "#sk-container-id-1 div.sk-parallel-item:last-child::after {\n",
       "  align-self: flex-start;\n",
       "  width: 50%;\n",
       "}\n",
       "\n",
       "#sk-container-id-1 div.sk-parallel-item:only-child::after {\n",
       "  width: 0;\n",
       "}\n",
       "\n",
       "/* Serial-specific style estimator block */\n",
       "\n",
       "#sk-container-id-1 div.sk-serial {\n",
       "  display: flex;\n",
       "  flex-direction: column;\n",
       "  align-items: center;\n",
       "  background-color: var(--sklearn-color-background);\n",
       "  padding-right: 1em;\n",
       "  padding-left: 1em;\n",
       "}\n",
       "\n",
       "\n",
       "/* Toggleable style: style used for estimator/Pipeline/ColumnTransformer box that is\n",
       "clickable and can be expanded/collapsed.\n",
       "- Pipeline and ColumnTransformer use this feature and define the default style\n",
       "- Estimators will overwrite some part of the style using the `sk-estimator` class\n",
       "*/\n",
       "\n",
       "/* Pipeline and ColumnTransformer style (default) */\n",
       "\n",
       "#sk-container-id-1 div.sk-toggleable {\n",
       "  /* Default theme specific background. It is overwritten whether we have a\n",
       "  specific estimator or a Pipeline/ColumnTransformer */\n",
       "  background-color: var(--sklearn-color-background);\n",
       "}\n",
       "\n",
       "/* Toggleable label */\n",
       "#sk-container-id-1 label.sk-toggleable__label {\n",
       "  cursor: pointer;\n",
       "  display: flex;\n",
       "  width: 100%;\n",
       "  margin-bottom: 0;\n",
       "  padding: 0.5em;\n",
       "  box-sizing: border-box;\n",
       "  text-align: center;\n",
       "  align-items: start;\n",
       "  justify-content: space-between;\n",
       "  gap: 0.5em;\n",
       "}\n",
       "\n",
       "#sk-container-id-1 label.sk-toggleable__label .caption {\n",
       "  font-size: 0.6rem;\n",
       "  font-weight: lighter;\n",
       "  color: var(--sklearn-color-text-muted);\n",
       "}\n",
       "\n",
       "#sk-container-id-1 label.sk-toggleable__label-arrow:before {\n",
       "  /* Arrow on the left of the label */\n",
       "  content: \"▸\";\n",
       "  float: left;\n",
       "  margin-right: 0.25em;\n",
       "  color: var(--sklearn-color-icon);\n",
       "}\n",
       "\n",
       "#sk-container-id-1 label.sk-toggleable__label-arrow:hover:before {\n",
       "  color: var(--sklearn-color-text);\n",
       "}\n",
       "\n",
       "/* Toggleable content - dropdown */\n",
       "\n",
       "#sk-container-id-1 div.sk-toggleable__content {\n",
       "  max-height: 0;\n",
       "  max-width: 0;\n",
       "  overflow: hidden;\n",
       "  text-align: left;\n",
       "  /* unfitted */\n",
       "  background-color: var(--sklearn-color-unfitted-level-0);\n",
       "}\n",
       "\n",
       "#sk-container-id-1 div.sk-toggleable__content.fitted {\n",
       "  /* fitted */\n",
       "  background-color: var(--sklearn-color-fitted-level-0);\n",
       "}\n",
       "\n",
       "#sk-container-id-1 div.sk-toggleable__content pre {\n",
       "  margin: 0.2em;\n",
       "  border-radius: 0.25em;\n",
       "  color: var(--sklearn-color-text);\n",
       "  /* unfitted */\n",
       "  background-color: var(--sklearn-color-unfitted-level-0);\n",
       "}\n",
       "\n",
       "#sk-container-id-1 div.sk-toggleable__content.fitted pre {\n",
       "  /* unfitted */\n",
       "  background-color: var(--sklearn-color-fitted-level-0);\n",
       "}\n",
       "\n",
       "#sk-container-id-1 input.sk-toggleable__control:checked~div.sk-toggleable__content {\n",
       "  /* Expand drop-down */\n",
       "  max-height: 200px;\n",
       "  max-width: 100%;\n",
       "  overflow: auto;\n",
       "}\n",
       "\n",
       "#sk-container-id-1 input.sk-toggleable__control:checked~label.sk-toggleable__label-arrow:before {\n",
       "  content: \"▾\";\n",
       "}\n",
       "\n",
       "/* Pipeline/ColumnTransformer-specific style */\n",
       "\n",
       "#sk-container-id-1 div.sk-label input.sk-toggleable__control:checked~label.sk-toggleable__label {\n",
       "  color: var(--sklearn-color-text);\n",
       "  background-color: var(--sklearn-color-unfitted-level-2);\n",
       "}\n",
       "\n",
       "#sk-container-id-1 div.sk-label.fitted input.sk-toggleable__control:checked~label.sk-toggleable__label {\n",
       "  background-color: var(--sklearn-color-fitted-level-2);\n",
       "}\n",
       "\n",
       "/* Estimator-specific style */\n",
       "\n",
       "/* Colorize estimator box */\n",
       "#sk-container-id-1 div.sk-estimator input.sk-toggleable__control:checked~label.sk-toggleable__label {\n",
       "  /* unfitted */\n",
       "  background-color: var(--sklearn-color-unfitted-level-2);\n",
       "}\n",
       "\n",
       "#sk-container-id-1 div.sk-estimator.fitted input.sk-toggleable__control:checked~label.sk-toggleable__label {\n",
       "  /* fitted */\n",
       "  background-color: var(--sklearn-color-fitted-level-2);\n",
       "}\n",
       "\n",
       "#sk-container-id-1 div.sk-label label.sk-toggleable__label,\n",
       "#sk-container-id-1 div.sk-label label {\n",
       "  /* The background is the default theme color */\n",
       "  color: var(--sklearn-color-text-on-default-background);\n",
       "}\n",
       "\n",
       "/* On hover, darken the color of the background */\n",
       "#sk-container-id-1 div.sk-label:hover label.sk-toggleable__label {\n",
       "  color: var(--sklearn-color-text);\n",
       "  background-color: var(--sklearn-color-unfitted-level-2);\n",
       "}\n",
       "\n",
       "/* Label box, darken color on hover, fitted */\n",
       "#sk-container-id-1 div.sk-label.fitted:hover label.sk-toggleable__label.fitted {\n",
       "  color: var(--sklearn-color-text);\n",
       "  background-color: var(--sklearn-color-fitted-level-2);\n",
       "}\n",
       "\n",
       "/* Estimator label */\n",
       "\n",
       "#sk-container-id-1 div.sk-label label {\n",
       "  font-family: monospace;\n",
       "  font-weight: bold;\n",
       "  display: inline-block;\n",
       "  line-height: 1.2em;\n",
       "}\n",
       "\n",
       "#sk-container-id-1 div.sk-label-container {\n",
       "  text-align: center;\n",
       "}\n",
       "\n",
       "/* Estimator-specific */\n",
       "#sk-container-id-1 div.sk-estimator {\n",
       "  font-family: monospace;\n",
       "  border: 1px dotted var(--sklearn-color-border-box);\n",
       "  border-radius: 0.25em;\n",
       "  box-sizing: border-box;\n",
       "  margin-bottom: 0.5em;\n",
       "  /* unfitted */\n",
       "  background-color: var(--sklearn-color-unfitted-level-0);\n",
       "}\n",
       "\n",
       "#sk-container-id-1 div.sk-estimator.fitted {\n",
       "  /* fitted */\n",
       "  background-color: var(--sklearn-color-fitted-level-0);\n",
       "}\n",
       "\n",
       "/* on hover */\n",
       "#sk-container-id-1 div.sk-estimator:hover {\n",
       "  /* unfitted */\n",
       "  background-color: var(--sklearn-color-unfitted-level-2);\n",
       "}\n",
       "\n",
       "#sk-container-id-1 div.sk-estimator.fitted:hover {\n",
       "  /* fitted */\n",
       "  background-color: var(--sklearn-color-fitted-level-2);\n",
       "}\n",
       "\n",
       "/* Specification for estimator info (e.g. \"i\" and \"?\") */\n",
       "\n",
       "/* Common style for \"i\" and \"?\" */\n",
       "\n",
       ".sk-estimator-doc-link,\n",
       "a:link.sk-estimator-doc-link,\n",
       "a:visited.sk-estimator-doc-link {\n",
       "  float: right;\n",
       "  font-size: smaller;\n",
       "  line-height: 1em;\n",
       "  font-family: monospace;\n",
       "  background-color: var(--sklearn-color-background);\n",
       "  border-radius: 1em;\n",
       "  height: 1em;\n",
       "  width: 1em;\n",
       "  text-decoration: none !important;\n",
       "  margin-left: 0.5em;\n",
       "  text-align: center;\n",
       "  /* unfitted */\n",
       "  border: var(--sklearn-color-unfitted-level-1) 1pt solid;\n",
       "  color: var(--sklearn-color-unfitted-level-1);\n",
       "}\n",
       "\n",
       ".sk-estimator-doc-link.fitted,\n",
       "a:link.sk-estimator-doc-link.fitted,\n",
       "a:visited.sk-estimator-doc-link.fitted {\n",
       "  /* fitted */\n",
       "  border: var(--sklearn-color-fitted-level-1) 1pt solid;\n",
       "  color: var(--sklearn-color-fitted-level-1);\n",
       "}\n",
       "\n",
       "/* On hover */\n",
       "div.sk-estimator:hover .sk-estimator-doc-link:hover,\n",
       ".sk-estimator-doc-link:hover,\n",
       "div.sk-label-container:hover .sk-estimator-doc-link:hover,\n",
       ".sk-estimator-doc-link:hover {\n",
       "  /* unfitted */\n",
       "  background-color: var(--sklearn-color-unfitted-level-3);\n",
       "  color: var(--sklearn-color-background);\n",
       "  text-decoration: none;\n",
       "}\n",
       "\n",
       "div.sk-estimator.fitted:hover .sk-estimator-doc-link.fitted:hover,\n",
       ".sk-estimator-doc-link.fitted:hover,\n",
       "div.sk-label-container:hover .sk-estimator-doc-link.fitted:hover,\n",
       ".sk-estimator-doc-link.fitted:hover {\n",
       "  /* fitted */\n",
       "  background-color: var(--sklearn-color-fitted-level-3);\n",
       "  color: var(--sklearn-color-background);\n",
       "  text-decoration: none;\n",
       "}\n",
       "\n",
       "/* Span, style for the box shown on hovering the info icon */\n",
       ".sk-estimator-doc-link span {\n",
       "  display: none;\n",
       "  z-index: 9999;\n",
       "  position: relative;\n",
       "  font-weight: normal;\n",
       "  right: .2ex;\n",
       "  padding: .5ex;\n",
       "  margin: .5ex;\n",
       "  width: min-content;\n",
       "  min-width: 20ex;\n",
       "  max-width: 50ex;\n",
       "  color: var(--sklearn-color-text);\n",
       "  box-shadow: 2pt 2pt 4pt #999;\n",
       "  /* unfitted */\n",
       "  background: var(--sklearn-color-unfitted-level-0);\n",
       "  border: .5pt solid var(--sklearn-color-unfitted-level-3);\n",
       "}\n",
       "\n",
       ".sk-estimator-doc-link.fitted span {\n",
       "  /* fitted */\n",
       "  background: var(--sklearn-color-fitted-level-0);\n",
       "  border: var(--sklearn-color-fitted-level-3);\n",
       "}\n",
       "\n",
       ".sk-estimator-doc-link:hover span {\n",
       "  display: block;\n",
       "}\n",
       "\n",
       "/* \"?\"-specific style due to the `<a>` HTML tag */\n",
       "\n",
       "#sk-container-id-1 a.estimator_doc_link {\n",
       "  float: right;\n",
       "  font-size: 1rem;\n",
       "  line-height: 1em;\n",
       "  font-family: monospace;\n",
       "  background-color: var(--sklearn-color-background);\n",
       "  border-radius: 1rem;\n",
       "  height: 1rem;\n",
       "  width: 1rem;\n",
       "  text-decoration: none;\n",
       "  /* unfitted */\n",
       "  color: var(--sklearn-color-unfitted-level-1);\n",
       "  border: var(--sklearn-color-unfitted-level-1) 1pt solid;\n",
       "}\n",
       "\n",
       "#sk-container-id-1 a.estimator_doc_link.fitted {\n",
       "  /* fitted */\n",
       "  border: var(--sklearn-color-fitted-level-1) 1pt solid;\n",
       "  color: var(--sklearn-color-fitted-level-1);\n",
       "}\n",
       "\n",
       "/* On hover */\n",
       "#sk-container-id-1 a.estimator_doc_link:hover {\n",
       "  /* unfitted */\n",
       "  background-color: var(--sklearn-color-unfitted-level-3);\n",
       "  color: var(--sklearn-color-background);\n",
       "  text-decoration: none;\n",
       "}\n",
       "\n",
       "#sk-container-id-1 a.estimator_doc_link.fitted:hover {\n",
       "  /* fitted */\n",
       "  background-color: var(--sklearn-color-fitted-level-3);\n",
       "}\n",
       "</style><div id=\"sk-container-id-1\" class=\"sk-top-container\"><div class=\"sk-text-repr-fallback\"><pre>StandardScaler()</pre><b>In a Jupyter environment, please rerun this cell to show the HTML representation or trust the notebook. <br />On GitHub, the HTML representation is unable to render, please try loading this page with nbviewer.org.</b></div><div class=\"sk-container\" hidden><div class=\"sk-item\"><div class=\"sk-estimator fitted sk-toggleable\"><input class=\"sk-toggleable__control sk-hidden--visually\" id=\"sk-estimator-id-1\" type=\"checkbox\" checked><label for=\"sk-estimator-id-1\" class=\"sk-toggleable__label fitted sk-toggleable__label-arrow\"><div><div>StandardScaler</div></div><div><a class=\"sk-estimator-doc-link fitted\" rel=\"noreferrer\" target=\"_blank\" href=\"https://scikit-learn.org/1.6/modules/generated/sklearn.preprocessing.StandardScaler.html\">?<span>Documentation for StandardScaler</span></a><span class=\"sk-estimator-doc-link fitted\">i<span>Fitted</span></span></div></label><div class=\"sk-toggleable__content fitted\"><pre>StandardScaler()</pre></div> </div></div></div></div>"
      ]
     },
     "execution_count": 52,
     "metadata": {},
     "output_type": "execute_result"
    }
   ],
   "execution_count": 52
  },
  {
   "metadata": {
    "ExecuteTime": {
     "end_time": "2025-04-18T07:23:29.089942Z",
     "start_time": "2025-04-18T07:23:29.087096Z"
    }
   },
   "cell_type": "code",
   "source": "ElasticNetCV",
   "id": "1e32322d25bf675e",
   "outputs": [
    {
     "data": {
      "text/plain": [
       "sklearn.linear_model._coordinate_descent.ElasticNetCV"
      ]
     },
     "execution_count": 53,
     "metadata": {},
     "output_type": "execute_result"
    }
   ],
   "execution_count": 53
  },
  {
   "metadata": {
    "ExecuteTime": {
     "end_time": "2025-04-18T07:31:55.331015Z",
     "start_time": "2025-04-18T07:31:55.325259Z"
    }
   },
   "cell_type": "code",
   "source": [
    "import pickle\n",
    "pickle.dump(scaler,open('scaler.pkl','wb'))"
   ],
   "id": "e8c728d2dabca4e5",
   "outputs": [],
   "execution_count": 55
  },
  {
   "metadata": {
    "ExecuteTime": {
     "end_time": "2025-04-18T07:33:24.470841Z",
     "start_time": "2025-04-18T07:33:24.447867Z"
    }
   },
   "cell_type": "code",
   "source": [
    "from sklearn.linear_model import ElasticNetCV\n",
    "import pickle\n",
    "\n",
    "# Train the model\n",
    "model = ElasticNetCV()\n",
    "model.fit(X_train_scaled, Y_train)\n",
    "\n",
    "# Save the trained model\n",
    "pickle.dump(model, open('ElasticNetCV.pkl', 'wb'))\n"
   ],
   "id": "6f4a05418abe0642",
   "outputs": [],
   "execution_count": 57
  }
 ],
 "metadata": {
  "kernelspec": {
   "display_name": "Python 3",
   "language": "python",
   "name": "python3"
  },
  "language_info": {
   "codemirror_mode": {
    "name": "ipython",
    "version": 2
   },
   "file_extension": ".py",
   "mimetype": "text/x-python",
   "name": "python",
   "nbconvert_exporter": "python",
   "pygments_lexer": "ipython2",
   "version": "2.7.6"
  }
 },
 "nbformat": 4,
 "nbformat_minor": 5
}
